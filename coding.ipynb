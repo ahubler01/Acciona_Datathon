{
 "cells": [
  {
   "cell_type": "code",
   "execution_count": 8,
   "id": "c7b0fa4c",
   "metadata": {},
   "outputs": [],
   "source": [
    "# Data manipulation\n",
    "# ==============================================================================\n",
    "import numpy as np\n",
    "import pandas as pd\n",
    "\n",
    "# Plots\n",
    "# ==============================================================================\n",
    "import matplotlib.pyplot as plt\n",
    "plt.style.use('fivethirtyeight')\n",
    "plt.rcParams['lines.linewidth'] = 1.5\n",
    "plt.rcParams['font.size'] = 10\n",
    "\n",
    "# Modeling and Forecasting\n",
    "# ==============================================================================\n",
    "from sklearn.linear_model import LinearRegression\n",
    "from sklearn.linear_model import Lasso\n",
    "from sklearn.ensemble import RandomForestRegressor\n",
    "from sklearn.metrics import mean_squared_error\n",
    "from sklearn.metrics import mean_absolute_error\n",
    "from sklearn.preprocessing import StandardScaler\n",
    "\n",
    "from skforecast.ForecasterAutoreg import ForecasterAutoreg\n",
    "from skforecast.ForecasterAutoregCustom import ForecasterAutoregCustom\n",
    "from skforecast.ForecasterAutoregDirect import ForecasterAutoregDirect\n",
    "from skforecast.model_selection import grid_search_forecaster\n",
    "from skforecast.model_selection import backtesting_forecaster\n",
    "from skforecast.utils import save_forecaster\n",
    "from skforecast.utils import load_forecaster\n",
    "\n",
    "# Warnings configuration\n",
    "# ==============================================================================\n",
    "import warnings\n",
    "# warnings.filterwarnings('ignore')"
   ]
  },
  {
   "cell_type": "code",
   "execution_count": 9,
   "id": "3f3e8329",
   "metadata": {},
   "outputs": [],
   "source": [
    "# Data download\n",
    "# ==============================================================================\n",
    "url = '/Users/sm_aswin21/Library/Mobile Documents/com~apple~CloudDocs/Code_Sus_Datathon/merged_dataset.csv'\n",
    "data = pd.read_csv(url, sep=',')"
   ]
  },
  {
   "cell_type": "code",
   "execution_count": 11,
   "id": "8cbd6f3a",
   "metadata": {},
   "outputs": [
    {
     "name": "stdout",
     "output_type": "stream",
     "text": [
      "Index(['temp', 'visibility', 'solarenergy', 'cloudcover', 'datetime', 'precip',\n",
      "       'solarradiation', 'dew', 'humidity', 'precipcover', 'windchill',\n",
      "       'locations', 'Canonical', 'RowKey', 'INF_Label', 'INF_Value',\n",
      "       'STA_Label', 'Sector_Neta', 'Zone_1', 'Zone_2', 'Zone_3'],\n",
      "      dtype='object')\n",
      "   temp  visibility  solarenergy  cloudcover       datetime  precip  \\\n",
      "0  24.0        14.8         24.4        29.4  1627862400000     0.0   \n",
      "1  24.0        14.8         24.4        29.4  1627862400000     0.0   \n",
      "2  24.0        14.8         24.4        29.4  1627862400000     0.0   \n",
      "3  24.0        14.8         24.4        29.4  1627862400000     0.0   \n",
      "4  25.8        14.6         24.7        33.7  1627948800000     0.0   \n",
      "\n",
      "   solarradiation  dew  humidity  precipcover  ...              locations  \\\n",
      "0           452.7  3.8     27.87          0.0  ...  39.2210171,-3.6185337   \n",
      "1           452.7  3.8     27.87          0.0  ...  39.2210171,-3.6185337   \n",
      "2           452.7  3.8     27.87          0.0  ...  39.2210171,-3.6185337   \n",
      "3           452.7  3.8     27.87          0.0  ...  39.2210171,-3.6185337   \n",
      "4           456.5  7.7     35.15          0.0  ...  39.2210171,-3.6185337   \n",
      "\n",
      "     Canonical                     RowKey    INF_Label      INF_Value  \\\n",
      "0  TOTALIZADOR  2021-08-01 22:00:00+00:00      LS Urda    4551.000000   \n",
      "1  TOTALIZADOR  2021-08-01 22:00:00+00:00    LS Planta  256156.359375   \n",
      "2  TOTALIZADOR  2021-08-01 22:00:00+00:00  LS Churruca  950155.625000   \n",
      "3  TOTALIZADOR  2021-08-01 22:00:00+00:00    LS Centro  396873.937500   \n",
      "4  TOTALIZADOR  2021-08-02 22:00:00+00:00      LS Urda    4662.100098   \n",
      "\n",
      "              STA_Label Sector_Neta  Zone_1 Zone_2 Zone_3  \n",
      "0  11000 Carretera Urda    22110000    True    NaN    NaN  \n",
      "1          13100 Planta    22131000     1.0    NaN   True  \n",
      "2        13000 Churruca    22130000     NaN    NaN   True  \n",
      "3          13210 Centro    22132100     1.0      1   True  \n",
      "4  11000 Carretera Urda    22110000    True    NaN    NaN  \n",
      "\n",
      "[5 rows x 21 columns]\n"
     ]
    }
   ],
   "source": [
    "print(data.columns)\n",
    "print(data.head())"
   ]
  },
  {
   "cell_type": "code",
   "execution_count": 25,
   "id": "b8c0c477",
   "metadata": {},
   "outputs": [],
   "source": [
    "# Define a mapping of values to be replaced\n",
    "replace_values = {1.0: 0, 1: 0, 'TRUE': 1}\n",
    "\n",
    "# Apply the replacement for each column\n",
    "data['Zone_1'] = data['Zone_1'].replace(replace_values)\n",
    "data['Zone_2'] = data['Zone_2'].replace(replace_values)\n",
    "data['Zone_3'] = data['Zone_3'].replace(replace_values)\n"
   ]
  },
  {
   "cell_type": "code",
   "execution_count": 21,
   "id": "a4da160a",
   "metadata": {},
   "outputs": [],
   "source": [
    "# Define the columns to be dropped\n",
    "columns_to_drop = ['INF_Label', 'STA_Label', 'locations', 'Canonical']\n",
    "\n",
    "# Drop the specified columns\n",
    "data = data.drop(columns_to_drop, axis=1)\n"
   ]
  },
  {
   "cell_type": "code",
   "execution_count": 22,
   "id": "fb03cf85",
   "metadata": {},
   "outputs": [
    {
     "name": "stdout",
     "output_type": "stream",
     "text": [
      "Index(['temp', 'visibility', 'solarenergy', 'cloudcover', 'precip',\n",
      "       'solarradiation', 'dew', 'humidity', 'precipcover', 'windchill',\n",
      "       'RowKey', 'INF_Value', 'Sector_Neta', 'Zone_1', 'Zone_2', 'Zone_3'],\n",
      "      dtype='object')\n"
     ]
    }
   ],
   "source": [
    "print(data.columns)"
   ]
  },
  {
   "cell_type": "code",
   "execution_count": 26,
   "id": "ba992d12",
   "metadata": {},
   "outputs": [
    {
     "name": "stdout",
     "output_type": "stream",
     "text": [
      "   temp  visibility  solarenergy  cloudcover  precip  solarradiation  dew  \\\n",
      "0  24.0        14.8         24.4        29.4     0.0           452.7  3.8   \n",
      "1  24.0        14.8         24.4        29.4     0.0           452.7  3.8   \n",
      "2  24.0        14.8         24.4        29.4     0.0           452.7  3.8   \n",
      "3  24.0        14.8         24.4        29.4     0.0           452.7  3.8   \n",
      "4  25.8        14.6         24.7        33.7     0.0           456.5  7.7   \n",
      "\n",
      "   humidity  precipcover  windchill                     RowKey      INF_Value  \\\n",
      "0     27.87          0.0        9.3  2021-08-01 22:00:00+00:00    4551.000000   \n",
      "1     27.87          0.0        9.3  2021-08-01 22:00:00+00:00  256156.359375   \n",
      "2     27.87          0.0        9.3  2021-08-01 22:00:00+00:00  950155.625000   \n",
      "3     27.87          0.0        9.3  2021-08-01 22:00:00+00:00  396873.937500   \n",
      "4     35.15          0.0        9.3  2021-08-02 22:00:00+00:00    4662.100098   \n",
      "\n",
      "   Sector_Neta Zone_1 Zone_2  Zone_3  \n",
      "0     22110000   True    NaN     NaN  \n",
      "1     22131000    1.0    NaN     0.0  \n",
      "2     22130000    NaN    NaN     0.0  \n",
      "3     22132100    1.0      1     0.0  \n",
      "4     22110000   True    NaN     NaN  \n"
     ]
    }
   ],
   "source": [
    "print(data.head())"
   ]
  },
  {
   "cell_type": "code",
   "execution_count": 29,
   "id": "cec5c4ea",
   "metadata": {},
   "outputs": [
    {
     "name": "stdout",
     "output_type": "stream",
     "text": [
      "     Zone_1 Zone_2  Zone_3\n",
      "0         0      0     0.0\n",
      "1       1.0      0     0.0\n",
      "2         0      0     0.0\n",
      "3       1.0      1     0.0\n",
      "4         0      0     0.0\n",
      "...     ...    ...     ...\n",
      "2167    1.0    1.0     0.0\n",
      "2168      0      0     0.0\n",
      "2169      0      0     0.0\n",
      "2170    1.0      0     0.0\n",
      "2171    1.0    1.0     0.0\n",
      "\n",
      "[2172 rows x 3 columns]\n"
     ]
    }
   ],
   "source": [
    "# Replace every 1 with 0 for each column\n",
    "data['Zone_1'] = data['Zone_1'].replace([1, 1.0], 0)\n",
    "data['Zone_2'] = data['Zone_2'].replace([1, 1.0], 0)\n",
    "data['Zone_3'] = data['Zone_3'].replace([1, 1.0], 0)\n",
    "\n",
    "# Replace 'True' with 1 for each column\n",
    "data['Zone_1'] = data['Zone_1'].replace('True', 1)\n",
    "data['Zone_2'] = data['Zone_2'].replace('True', 1)\n",
    "data['Zone_3'] = data['Zone_3'].replace('True', 1)\n",
    "\n",
    "data['Zone_1'].fillna(0, inplace=True)\n",
    "data['Zone_2'].fillna(0, inplace=True)\n",
    "data['Zone_3'].fillna(0, inplace=True)\n",
    "\n",
    "\n",
    "# Display the Zone columns\n",
    "print(data[['Zone_1', 'Zone_2', 'Zone_3']])\n"
   ]
  },
  {
   "cell_type": "code",
   "execution_count": 52,
   "id": "45e50b34",
   "metadata": {},
   "outputs": [],
   "source": [
    "# Create a copy of the data to keep the original intact\n",
    "data_filtered = data.copy()\n",
    "\n",
    "# Iterate over all numerical columns\n",
    "for column in data.select_dtypes(include=['float64', 'int64']).columns:\n",
    "    Q1 = data[column].quantile(0.25)\n",
    "    Q3 = data[column].quantile(0.75)\n",
    "    IQR = Q3 - Q1\n",
    "    \n",
    "    lower_bound = Q1 - 1.5 * IQR\n",
    "    upper_bound = Q3 + 1.5 * IQR\n",
    "    \n",
    "    # Filter data for each column without modifying the original dataset\n",
    "    data_filtered = data_filtered[(data_filtered[column] >= lower_bound) & (data_filtered[column] <= upper_bound)]\n",
    "\n",
    "# Now, data_filtered contains the data with outliers removed\n"
   ]
  },
  {
   "cell_type": "code",
   "execution_count": 54,
   "id": "cd658725",
   "metadata": {},
   "outputs": [
    {
     "name": "stdout",
     "output_type": "stream",
     "text": [
      "            temp  visibility  solarenergy  cloudcover  precip  solarradiation  \\\n",
      "RowKey                                                                          \n",
      "2021-08-01  24.0        14.8         24.4        29.4     0.0           452.7   \n",
      "2021-08-01  24.0        14.8         24.4        29.4     0.0           452.7   \n",
      "2021-08-01  24.0        14.8         24.4        29.4     0.0           452.7   \n",
      "2021-08-01  24.0        14.8         24.4        29.4     0.0           452.7   \n",
      "2021-08-02  25.8        14.6         24.7        33.7     0.0           456.5   \n",
      "\n",
      "            dew  humidity  precipcover  windchill      INF_Value  Sector_Neta  \\\n",
      "RowKey                                                                          \n",
      "2021-08-01  3.8     27.87          0.0        9.3    4551.000000     22110000   \n",
      "2021-08-01  3.8     27.87          0.0        9.3  256156.359375     22131000   \n",
      "2021-08-01  3.8     27.87          0.0        9.3  950155.625000     22130000   \n",
      "2021-08-01  3.8     27.87          0.0        9.3  396873.937500     22132100   \n",
      "2021-08-02  7.7     35.15          0.0        9.3    4662.100098     22110000   \n",
      "\n",
      "           Zone_1 Zone_2  Zone_3  \n",
      "RowKey                            \n",
      "2021-08-01      0      0     0.0  \n",
      "2021-08-01    1.0      0     0.0  \n",
      "2021-08-01      0      0     0.0  \n",
      "2021-08-01    1.0      1     0.0  \n",
      "2021-08-02      0      0     0.0  \n"
     ]
    }
   ],
   "source": [
    "print(data_filtered.head())"
   ]
  },
  {
   "cell_type": "code",
   "execution_count": 55,
   "id": "789599c7",
   "metadata": {},
   "outputs": [
    {
     "name": "stdout",
     "output_type": "stream",
     "text": [
      "            temp  visibility  solarenergy  cloudcover  precip  solarradiation  \\\n",
      "RowKey                                                                          \n",
      "2021-08-01  24.0        14.8         24.4        29.4     0.0           452.7   \n",
      "2021-08-01  24.0        14.8         24.4        29.4     0.0           452.7   \n",
      "2021-08-01  24.0        14.8         24.4        29.4     0.0           452.7   \n",
      "2021-08-01  24.0        14.8         24.4        29.4     0.0           452.7   \n",
      "2021-08-02  25.8        14.6         24.7        33.7     0.0           456.5   \n",
      "\n",
      "            dew  humidity  precipcover  windchill      INF_Value  Sector_Neta  \\\n",
      "RowKey                                                                          \n",
      "2021-08-01  3.8     27.87          0.0        9.3    4551.000000     22110000   \n",
      "2021-08-01  3.8     27.87          0.0        9.3  256156.359375     22131000   \n",
      "2021-08-01  3.8     27.87          0.0        9.3  950155.625000     22130000   \n",
      "2021-08-01  3.8     27.87          0.0        9.3  396873.937500     22132100   \n",
      "2021-08-02  7.7     35.15          0.0        9.3    4662.100098     22110000   \n",
      "\n",
      "           Zone_1 Zone_2  Zone_3  \n",
      "RowKey                            \n",
      "2021-08-01      0      0     0.0  \n",
      "2021-08-01    1.0      0     0.0  \n",
      "2021-08-01      0      0     0.0  \n",
      "2021-08-01    1.0      1     0.0  \n",
      "2021-08-02      0      0     0.0  \n"
     ]
    }
   ],
   "source": [
    "print(data_filtered.head())"
   ]
  },
  {
   "cell_type": "code",
   "execution_count": 56,
   "id": "c044a5a2",
   "metadata": {},
   "outputs": [
    {
     "name": "stdout",
     "output_type": "stream",
     "text": [
      "Index(['temp', 'visibility', 'solarenergy', 'cloudcover', 'precip',\n",
      "       'solarradiation', 'dew', 'humidity', 'precipcover', 'windchill',\n",
      "       'INF_Value', 'Sector_Neta', 'Zone_1', 'Zone_2', 'Zone_3'],\n",
      "      dtype='object')\n"
     ]
    }
   ],
   "source": [
    "print(data_filtered.columns)"
   ]
  },
  {
   "cell_type": "code",
   "execution_count": 60,
   "id": "7804e6e1",
   "metadata": {},
   "outputs": [],
   "source": [
    "mergeddata = data_filtered\n"
   ]
  },
  {
   "cell_type": "code",
   "execution_count": 74,
   "id": "3a5fcec0",
   "metadata": {},
   "outputs": [
    {
     "ename": "ValueError",
     "evalue": "cannot reindex on an axis with duplicate labels",
     "output_type": "error",
     "traceback": [
      "\u001b[0;31m---------------------------------------------------------------------------\u001b[0m",
      "\u001b[0;31mValueError\u001b[0m                                Traceback (most recent call last)",
      "\u001b[1;32m/Users/sm_aswin21/Library/Mobile Documents/com~apple~CloudDocs/Code_Sus_Datathon/coding.ipynb Cell 14\u001b[0m line \u001b[0;36m4\n\u001b[1;32m      <a href='vscode-notebook-cell:/Users/sm_aswin21/Library/Mobile%20Documents/com~apple~CloudDocs/Code_Sus_Datathon/coding.ipynb#X43sZmlsZQ%3D%3D?line=0'>1</a>\u001b[0m \u001b[39mimport\u001b[39;00m \u001b[39mnumpy\u001b[39;00m \u001b[39mas\u001b[39;00m \u001b[39mnp\u001b[39;00m\n\u001b[1;32m      <a href='vscode-notebook-cell:/Users/sm_aswin21/Library/Mobile%20Documents/com~apple~CloudDocs/Code_Sus_Datathon/coding.ipynb#X43sZmlsZQ%3D%3D?line=2'>3</a>\u001b[0m \u001b[39m# Log transformation\u001b[39;00m\n\u001b[0;32m----> <a href='vscode-notebook-cell:/Users/sm_aswin21/Library/Mobile%20Documents/com~apple~CloudDocs/Code_Sus_Datathon/coding.ipynb#X43sZmlsZQ%3D%3D?line=3'>4</a>\u001b[0m mergeddata[\u001b[39m'\u001b[39;49m\u001b[39mINF_Value_log\u001b[39;49m\u001b[39m'\u001b[39;49m] \u001b[39m=\u001b[39m np\u001b[39m.\u001b[39mlog1p(data[\u001b[39m'\u001b[39m\u001b[39mINF_Value\u001b[39m\u001b[39m'\u001b[39m])\n",
      "File \u001b[0;32m~/.pyenv/versions/3.9.7/lib/python3.9/site-packages/pandas/core/frame.py:3950\u001b[0m, in \u001b[0;36mDataFrame.__setitem__\u001b[0;34m(self, key, value)\u001b[0m\n\u001b[1;32m   3947\u001b[0m     \u001b[39mself\u001b[39m\u001b[39m.\u001b[39m_setitem_array([key], value)\n\u001b[1;32m   3948\u001b[0m \u001b[39melse\u001b[39;00m:\n\u001b[1;32m   3949\u001b[0m     \u001b[39m# set column\u001b[39;00m\n\u001b[0;32m-> 3950\u001b[0m     \u001b[39mself\u001b[39;49m\u001b[39m.\u001b[39;49m_set_item(key, value)\n",
      "File \u001b[0;32m~/.pyenv/versions/3.9.7/lib/python3.9/site-packages/pandas/core/frame.py:4143\u001b[0m, in \u001b[0;36mDataFrame._set_item\u001b[0;34m(self, key, value)\u001b[0m\n\u001b[1;32m   4133\u001b[0m \u001b[39mdef\u001b[39;00m \u001b[39m_set_item\u001b[39m(\u001b[39mself\u001b[39m, key, value) \u001b[39m-\u001b[39m\u001b[39m>\u001b[39m \u001b[39mNone\u001b[39;00m:\n\u001b[1;32m   4134\u001b[0m \u001b[39m    \u001b[39m\u001b[39m\"\"\"\u001b[39;00m\n\u001b[1;32m   4135\u001b[0m \u001b[39m    Add series to DataFrame in specified column.\u001b[39;00m\n\u001b[1;32m   4136\u001b[0m \n\u001b[0;32m   (...)\u001b[0m\n\u001b[1;32m   4141\u001b[0m \u001b[39m    ensure homogeneity.\u001b[39;00m\n\u001b[1;32m   4142\u001b[0m \u001b[39m    \"\"\"\u001b[39;00m\n\u001b[0;32m-> 4143\u001b[0m     value \u001b[39m=\u001b[39m \u001b[39mself\u001b[39;49m\u001b[39m.\u001b[39;49m_sanitize_column(value)\n\u001b[1;32m   4145\u001b[0m     \u001b[39mif\u001b[39;00m (\n\u001b[1;32m   4146\u001b[0m         key \u001b[39min\u001b[39;00m \u001b[39mself\u001b[39m\u001b[39m.\u001b[39mcolumns\n\u001b[1;32m   4147\u001b[0m         \u001b[39mand\u001b[39;00m value\u001b[39m.\u001b[39mndim \u001b[39m==\u001b[39m \u001b[39m1\u001b[39m\n\u001b[1;32m   4148\u001b[0m         \u001b[39mand\u001b[39;00m \u001b[39mnot\u001b[39;00m is_extension_array_dtype(value)\n\u001b[1;32m   4149\u001b[0m     ):\n\u001b[1;32m   4150\u001b[0m         \u001b[39m# broadcast across multiple columns if necessary\u001b[39;00m\n\u001b[1;32m   4151\u001b[0m         \u001b[39mif\u001b[39;00m \u001b[39mnot\u001b[39;00m \u001b[39mself\u001b[39m\u001b[39m.\u001b[39mcolumns\u001b[39m.\u001b[39mis_unique \u001b[39mor\u001b[39;00m \u001b[39misinstance\u001b[39m(\u001b[39mself\u001b[39m\u001b[39m.\u001b[39mcolumns, MultiIndex):\n",
      "File \u001b[0;32m~/.pyenv/versions/3.9.7/lib/python3.9/site-packages/pandas/core/frame.py:4867\u001b[0m, in \u001b[0;36mDataFrame._sanitize_column\u001b[0;34m(self, value)\u001b[0m\n\u001b[1;32m   4865\u001b[0m     \u001b[39mreturn\u001b[39;00m _reindex_for_setitem(value, \u001b[39mself\u001b[39m\u001b[39m.\u001b[39mindex)\n\u001b[1;32m   4866\u001b[0m \u001b[39melif\u001b[39;00m is_dict_like(value):\n\u001b[0;32m-> 4867\u001b[0m     \u001b[39mreturn\u001b[39;00m _reindex_for_setitem(Series(value), \u001b[39mself\u001b[39;49m\u001b[39m.\u001b[39;49mindex)\n\u001b[1;32m   4869\u001b[0m \u001b[39mif\u001b[39;00m is_list_like(value):\n\u001b[1;32m   4870\u001b[0m     com\u001b[39m.\u001b[39mrequire_length_match(value, \u001b[39mself\u001b[39m\u001b[39m.\u001b[39mindex)\n",
      "File \u001b[0;32m~/.pyenv/versions/3.9.7/lib/python3.9/site-packages/pandas/core/frame.py:11615\u001b[0m, in \u001b[0;36m_reindex_for_setitem\u001b[0;34m(value, index)\u001b[0m\n\u001b[1;32m  11611\u001b[0m \u001b[39mexcept\u001b[39;00m \u001b[39mValueError\u001b[39;00m \u001b[39mas\u001b[39;00m err:\n\u001b[1;32m  11612\u001b[0m     \u001b[39m# raised in MultiIndex.from_tuples, see test_insert_error_msmgs\u001b[39;00m\n\u001b[1;32m  11613\u001b[0m     \u001b[39mif\u001b[39;00m \u001b[39mnot\u001b[39;00m value\u001b[39m.\u001b[39mindex\u001b[39m.\u001b[39mis_unique:\n\u001b[1;32m  11614\u001b[0m         \u001b[39m# duplicate axis\u001b[39;00m\n\u001b[0;32m> 11615\u001b[0m         \u001b[39mraise\u001b[39;00m err\n\u001b[1;32m  11617\u001b[0m     \u001b[39mraise\u001b[39;00m \u001b[39mTypeError\u001b[39;00m(\n\u001b[1;32m  11618\u001b[0m         \u001b[39m\"\u001b[39m\u001b[39mincompatible index of inserted column with frame index\u001b[39m\u001b[39m\"\u001b[39m\n\u001b[1;32m  11619\u001b[0m     ) \u001b[39mfrom\u001b[39;00m \u001b[39merr\u001b[39;00m\n\u001b[1;32m  11620\u001b[0m \u001b[39mreturn\u001b[39;00m reindexed_value\n",
      "File \u001b[0;32m~/.pyenv/versions/3.9.7/lib/python3.9/site-packages/pandas/core/frame.py:11610\u001b[0m, in \u001b[0;36m_reindex_for_setitem\u001b[0;34m(value, index)\u001b[0m\n\u001b[1;32m  11608\u001b[0m \u001b[39m# GH#4107\u001b[39;00m\n\u001b[1;32m  11609\u001b[0m \u001b[39mtry\u001b[39;00m:\n\u001b[0;32m> 11610\u001b[0m     reindexed_value \u001b[39m=\u001b[39m value\u001b[39m.\u001b[39;49mreindex(index)\u001b[39m.\u001b[39m_values\n\u001b[1;32m  11611\u001b[0m \u001b[39mexcept\u001b[39;00m \u001b[39mValueError\u001b[39;00m \u001b[39mas\u001b[39;00m err:\n\u001b[1;32m  11612\u001b[0m     \u001b[39m# raised in MultiIndex.from_tuples, see test_insert_error_msmgs\u001b[39;00m\n\u001b[1;32m  11613\u001b[0m     \u001b[39mif\u001b[39;00m \u001b[39mnot\u001b[39;00m value\u001b[39m.\u001b[39mindex\u001b[39m.\u001b[39mis_unique:\n\u001b[1;32m  11614\u001b[0m         \u001b[39m# duplicate axis\u001b[39;00m\n",
      "File \u001b[0;32m~/.pyenv/versions/3.9.7/lib/python3.9/site-packages/pandas/core/series.py:4918\u001b[0m, in \u001b[0;36mSeries.reindex\u001b[0;34m(self, index, axis, method, copy, level, fill_value, limit, tolerance)\u001b[0m\n\u001b[1;32m   4901\u001b[0m \u001b[39m@doc\u001b[39m(\n\u001b[1;32m   4902\u001b[0m     NDFrame\u001b[39m.\u001b[39mreindex,  \u001b[39m# type: ignore[has-type]\u001b[39;00m\n\u001b[1;32m   4903\u001b[0m     klass\u001b[39m=\u001b[39m_shared_doc_kwargs[\u001b[39m\"\u001b[39m\u001b[39mklass\u001b[39m\u001b[39m\"\u001b[39m],\n\u001b[0;32m   (...)\u001b[0m\n\u001b[1;32m   4916\u001b[0m     tolerance\u001b[39m=\u001b[39m\u001b[39mNone\u001b[39;00m,\n\u001b[1;32m   4917\u001b[0m ) \u001b[39m-\u001b[39m\u001b[39m>\u001b[39m Series:\n\u001b[0;32m-> 4918\u001b[0m     \u001b[39mreturn\u001b[39;00m \u001b[39msuper\u001b[39;49m()\u001b[39m.\u001b[39;49mreindex(\n\u001b[1;32m   4919\u001b[0m         index\u001b[39m=\u001b[39;49mindex,\n\u001b[1;32m   4920\u001b[0m         method\u001b[39m=\u001b[39;49mmethod,\n\u001b[1;32m   4921\u001b[0m         copy\u001b[39m=\u001b[39;49mcopy,\n\u001b[1;32m   4922\u001b[0m         level\u001b[39m=\u001b[39;49mlevel,\n\u001b[1;32m   4923\u001b[0m         fill_value\u001b[39m=\u001b[39;49mfill_value,\n\u001b[1;32m   4924\u001b[0m         limit\u001b[39m=\u001b[39;49mlimit,\n\u001b[1;32m   4925\u001b[0m         tolerance\u001b[39m=\u001b[39;49mtolerance,\n\u001b[1;32m   4926\u001b[0m     )\n",
      "File \u001b[0;32m~/.pyenv/versions/3.9.7/lib/python3.9/site-packages/pandas/core/generic.py:5360\u001b[0m, in \u001b[0;36mNDFrame.reindex\u001b[0;34m(self, labels, index, columns, axis, method, copy, level, fill_value, limit, tolerance)\u001b[0m\n\u001b[1;32m   5357\u001b[0m     \u001b[39mreturn\u001b[39;00m \u001b[39mself\u001b[39m\u001b[39m.\u001b[39m_reindex_multi(axes, copy, fill_value)\n\u001b[1;32m   5359\u001b[0m \u001b[39m# perform the reindex on the axes\u001b[39;00m\n\u001b[0;32m-> 5360\u001b[0m \u001b[39mreturn\u001b[39;00m \u001b[39mself\u001b[39;49m\u001b[39m.\u001b[39;49m_reindex_axes(\n\u001b[1;32m   5361\u001b[0m     axes, level, limit, tolerance, method, fill_value, copy\n\u001b[1;32m   5362\u001b[0m )\u001b[39m.\u001b[39m__finalize__(\u001b[39mself\u001b[39m, method\u001b[39m=\u001b[39m\u001b[39m\"\u001b[39m\u001b[39mreindex\u001b[39m\u001b[39m\"\u001b[39m)\n",
      "File \u001b[0;32m~/.pyenv/versions/3.9.7/lib/python3.9/site-packages/pandas/core/generic.py:5375\u001b[0m, in \u001b[0;36mNDFrame._reindex_axes\u001b[0;34m(self, axes, level, limit, tolerance, method, fill_value, copy)\u001b[0m\n\u001b[1;32m   5372\u001b[0m     \u001b[39mcontinue\u001b[39;00m\n\u001b[1;32m   5374\u001b[0m ax \u001b[39m=\u001b[39m \u001b[39mself\u001b[39m\u001b[39m.\u001b[39m_get_axis(a)\n\u001b[0;32m-> 5375\u001b[0m new_index, indexer \u001b[39m=\u001b[39m ax\u001b[39m.\u001b[39;49mreindex(\n\u001b[1;32m   5376\u001b[0m     labels, level\u001b[39m=\u001b[39;49mlevel, limit\u001b[39m=\u001b[39;49mlimit, tolerance\u001b[39m=\u001b[39;49mtolerance, method\u001b[39m=\u001b[39;49mmethod\n\u001b[1;32m   5377\u001b[0m )\n\u001b[1;32m   5379\u001b[0m axis \u001b[39m=\u001b[39m \u001b[39mself\u001b[39m\u001b[39m.\u001b[39m_get_axis_number(a)\n\u001b[1;32m   5380\u001b[0m obj \u001b[39m=\u001b[39m obj\u001b[39m.\u001b[39m_reindex_with_indexers(\n\u001b[1;32m   5381\u001b[0m     {axis: [new_index, indexer]},\n\u001b[1;32m   5382\u001b[0m     fill_value\u001b[39m=\u001b[39mfill_value,\n\u001b[1;32m   5383\u001b[0m     copy\u001b[39m=\u001b[39mcopy,\n\u001b[1;32m   5384\u001b[0m     allow_dups\u001b[39m=\u001b[39m\u001b[39mFalse\u001b[39;00m,\n\u001b[1;32m   5385\u001b[0m )\n",
      "File \u001b[0;32m~/.pyenv/versions/3.9.7/lib/python3.9/site-packages/pandas/core/indexes/base.py:4275\u001b[0m, in \u001b[0;36mIndex.reindex\u001b[0;34m(self, target, method, level, limit, tolerance)\u001b[0m\n\u001b[1;32m   4272\u001b[0m     \u001b[39mraise\u001b[39;00m \u001b[39mValueError\u001b[39;00m(\u001b[39m\"\u001b[39m\u001b[39mcannot handle a non-unique multi-index!\u001b[39m\u001b[39m\"\u001b[39m)\n\u001b[1;32m   4273\u001b[0m \u001b[39melif\u001b[39;00m \u001b[39mnot\u001b[39;00m \u001b[39mself\u001b[39m\u001b[39m.\u001b[39mis_unique:\n\u001b[1;32m   4274\u001b[0m     \u001b[39m# GH#42568\u001b[39;00m\n\u001b[0;32m-> 4275\u001b[0m     \u001b[39mraise\u001b[39;00m \u001b[39mValueError\u001b[39;00m(\u001b[39m\"\u001b[39m\u001b[39mcannot reindex on an axis with duplicate labels\u001b[39m\u001b[39m\"\u001b[39m)\n\u001b[1;32m   4276\u001b[0m \u001b[39melse\u001b[39;00m:\n\u001b[1;32m   4277\u001b[0m     indexer, _ \u001b[39m=\u001b[39m \u001b[39mself\u001b[39m\u001b[39m.\u001b[39mget_indexer_non_unique(target)\n",
      "\u001b[0;31mValueError\u001b[0m: cannot reindex on an axis with duplicate labels"
     ]
    }
   ],
   "source": [
    "import numpy as np\n",
    "\n",
    "# Log transformation\n",
    "mergeddata['INF_Value_log'] = np.log1p(data['INF_Value'])"
   ]
  },
  {
   "cell_type": "code",
   "execution_count": 61,
   "id": "ce51f7b9",
   "metadata": {},
   "outputs": [
    {
     "name": "stdout",
     "output_type": "stream",
     "text": [
      "            temp  visibility  solarenergy  cloudcover  precip  solarradiation  \\\n",
      "RowKey                                                                          \n",
      "2021-08-01  24.0        14.8         24.4        29.4     0.0           452.7   \n",
      "2021-08-01  24.0        14.8         24.4        29.4     0.0           452.7   \n",
      "2021-08-01  24.0        14.8         24.4        29.4     0.0           452.7   \n",
      "2021-08-01  24.0        14.8         24.4        29.4     0.0           452.7   \n",
      "2021-08-02  25.8        14.6         24.7        33.7     0.0           456.5   \n",
      "\n",
      "            dew  humidity  precipcover  windchill      INF_Value  Sector_Neta  \\\n",
      "RowKey                                                                          \n",
      "2021-08-01  3.8     27.87          0.0        9.3    4551.000000     22110000   \n",
      "2021-08-01  3.8     27.87          0.0        9.3  256156.359375     22131000   \n",
      "2021-08-01  3.8     27.87          0.0        9.3  950155.625000     22130000   \n",
      "2021-08-01  3.8     27.87          0.0        9.3  396873.937500     22132100   \n",
      "2021-08-02  7.7     35.15          0.0        9.3    4662.100098     22110000   \n",
      "\n",
      "           Zone_1 Zone_2  Zone_3  \n",
      "RowKey                            \n",
      "2021-08-01      0      0     0.0  \n",
      "2021-08-01    1.0      0     0.0  \n",
      "2021-08-01      0      0     0.0  \n",
      "2021-08-01    1.0      1     0.0  \n",
      "2021-08-02      0      0     0.0  \n"
     ]
    }
   ],
   "source": [
    "print(mergeddata.head())"
   ]
  },
  {
   "cell_type": "code",
   "execution_count": 70,
   "id": "87088bfd",
   "metadata": {},
   "outputs": [
    {
     "name": "stdout",
     "output_type": "stream",
     "text": [
      "(1546, 15)\n"
     ]
    }
   ],
   "source": [
    "print(mergeddata.shape)"
   ]
  },
  {
   "cell_type": "code",
   "execution_count": 68,
   "id": "8d344444",
   "metadata": {},
   "outputs": [
    {
     "name": "stdout",
     "output_type": "stream",
     "text": [
      "Range of INF_Value: 0.0 to 1331925.75\n"
     ]
    }
   ],
   "source": [
    "inf_value_min = mergeddata['INF_Value'].min()\n",
    "inf_value_max = mergeddata['INF_Value'].max()\n",
    "\n",
    "print(f\"Range of INF_Value: {inf_value_min} to {inf_value_max}\")\n"
   ]
  },
  {
   "cell_type": "code",
   "execution_count": 76,
   "id": "d89e2b65",
   "metadata": {},
   "outputs": [],
   "source": [
    "mergeddata = mergeddata.reset_index(drop=True)\n",
    "mergeddata['INF_Value_log'] = np.log1p(mergeddata['INF_Value'])\n"
   ]
  },
  {
   "cell_type": "code",
   "execution_count": 77,
   "id": "2757af76",
   "metadata": {},
   "outputs": [
    {
     "name": "stdout",
     "output_type": "stream",
     "text": [
      "Train dates : 0 --- 1361  (n=1362)\n",
      "Test dates  : 1362 --- 1545  (n=184)\n"
     ]
    },
    {
     "data": {
      "image/png": "[encoded data removed]",
      "text/plain": [
       "<Figure size 600x250 with 1 Axes>"
      ]
     },
     "metadata": {},
     "output_type": "display_data"
    }
   ],
   "source": [
    "# Split data into train-test\n",
    "# ==============================================================================\n",
    "steps = 184  # Updated steps to 184\n",
    "data_train = mergeddata[:-steps]  # Use mergeddata instead of data\n",
    "data_test = mergeddata[-steps:]  # Use mergeddata instead of data\n",
    "\n",
    "print(f\"Train dates : {data_train.index.min()} --- {data_train.index.max()}  (n={len(data_train)})\")\n",
    "print(f\"Test dates  : {data_test.index.min()} --- {data_test.index.max()}  (n={len(data_test)})\")\n",
    "\n",
    "fig, ax = plt.subplots(figsize=(6, 2.5))\n",
    "data_train['INF_Value_log'].plot(ax=ax, label='train')  # Updated 'y' to 'INF_Value_log'\n",
    "data_test['INF_Value_log'].plot(ax=ax, label='test')  # Updated 'y' to 'INF_Value_log'\n",
    "ax.legend();\n"
   ]
  },
  {
   "cell_type": "code",
   "execution_count": 78,
   "id": "2ea9289c",
   "metadata": {},
   "outputs": [
    {
     "data": {
      "text/plain": [
       "================= \n",
       "ForecasterAutoreg \n",
       "================= \n",
       "Regressor: RandomForestRegressor(random_state=123) \n",
       "Lags: [1 2 3 4 5 6] \n",
       "Transformer for y: None \n",
       "Transformer for exog: None \n",
       "Window size: 6 \n",
       "Weight function included: False \n",
       "Differentiation order: None \n",
       "Exogenous included: False \n",
       "Type of exogenous variable: None \n",
       "Exogenous variables names: None \n",
       "Training range: [0, 1361] \n",
       "Training index type: RangeIndex \n",
       "Training index frequency: 1 \n",
       "Regressor parameters: {'bootstrap': True, 'ccp_alpha': 0.0, 'criterion': 'squared_error', 'max_depth': None, 'max_features': 1.0, 'max_leaf_nodes': None, 'max_samples': None, 'min_impurity_decrease': 0.0, 'min_samples_leaf': 1, 'min_samples_split': 2, 'min_weight_fraction_leaf': 0.0, 'n_estimators': 100, 'n_jobs': None, 'oob_score': False, 'random_state': 123, 'verbose': 0, 'warm_start': False} \n",
       "fit_kwargs: {} \n",
       "Creation date: 2023-10-22 12:05:05 \n",
       "Last fit date: 2023-10-22 12:05:06 \n",
       "Skforecast version: 0.10.1 \n",
       "Python version: 3.9.7 \n",
       "Forecaster id: None "
      ]
     },
     "execution_count": 78,
     "metadata": {},
     "output_type": "execute_result"
    }
   ],
   "source": [
    "# Create and train forecaster\n",
    "# ==============================================================================\n",
    "forecaster = ForecasterAutoreg(\n",
    "                regressor = RandomForestRegressor(random_state=123),\n",
    "                lags      = 6\n",
    "             )\n",
    "\n",
    "forecaster.fit(y=data_train['INF_Value_log'])\n",
    "forecaster"
   ]
  },
  {
   "cell_type": "code",
   "execution_count": 79,
   "id": "5b6773c1",
   "metadata": {},
   "outputs": [
    {
     "data": {
      "text/plain": [
       "1362    10.617396\n",
       "1363    10.222462\n",
       "1364     9.576668\n",
       "1365    13.457013\n",
       "1366    11.059304\n",
       "Name: pred, dtype: float64"
      ]
     },
     "execution_count": 79,
     "metadata": {},
     "output_type": "execute_result"
    }
   ],
   "source": [
    "# Predictions\n",
    "# ==============================================================================\n",
    "steps = 184\n",
    "predictions = forecaster.predict(steps=steps)\n",
    "predictions.head(5)"
   ]
  },
  {
   "cell_type": "code",
   "execution_count": 80,
   "id": "07a36a13",
   "metadata": {},
   "outputs": [
    {
     "data": {
      "image/png": "[encoded data removed]",
      "text/plain": [
       "<Figure size 600x250 with 1 Axes>"
      ]
     },
     "metadata": {},
     "output_type": "display_data"
    }
   ],
   "source": [
    "# Plot\n",
    "# ==============================================================================\n",
    "fig, ax = plt.subplots(figsize=(6, 2.5))\n",
    "data_train['INF_Value_log'].plot(ax=ax, label='train')\n",
    "data_test['INF_Value_log'].plot(ax=ax, label='test')\n",
    "predictions.plot(ax=ax, label='predictions')\n",
    "ax.legend();"
   ]
  },
  {
   "cell_type": "code",
   "execution_count": 81,
   "id": "fba913f0",
   "metadata": {},
   "outputs": [
    {
     "name": "stdout",
     "output_type": "stream",
     "text": [
      "Test error (mse): 5.642782632767367\n"
     ]
    }
   ],
   "source": [
    "# Test error\n",
    "# ==============================================================================\n",
    "error_mse = mean_squared_error(\n",
    "                y_true = data_test['INF_Value_log'],\n",
    "                y_pred = predictions\n",
    "            )\n",
    "\n",
    "print(f\"Test error (mse): {error_mse}\")"
   ]
  },
  {
   "cell_type": "code",
   "execution_count": 82,
   "id": "9e8f7244",
   "metadata": {},
   "outputs": [
    {
     "name": "stdout",
     "output_type": "stream",
     "text": [
      "Number of models compared: 12.\n"
     ]
    },
    {
     "data": {
      "application/vnd.jupyter.widget-view+json": {
       "model_id": "b56281d39ef6495e9ec43f8afc22ca9a",
       "version_major": 2,
       "version_minor": 0
      },
      "text/plain": [
       "lags grid:   0%|          | 0/2 [00:00<?, ?it/s]"
      ]
     },
     "metadata": {},
     "output_type": "display_data"
    },
    {
     "data": {
      "application/vnd.jupyter.widget-view+json": {
       "model_id": "dead330809194adba005569c816b1e47",
       "version_major": 2,
       "version_minor": 0
      },
      "text/plain": [
       "params grid:   0%|          | 0/6 [00:00<?, ?it/s]"
      ]
     },
     "metadata": {},
     "output_type": "display_data"
    },
    {
     "name": "stdout",
     "output_type": "stream",
     "text": [
      "`Forecaster` refitted using the best-found lags and parameters, and the whole data set: \n",
      "  Lags: [ 1  2  3  4  5  6  7  8  9 10 11 12 13 14 15 16 17 18 19 20] \n",
      "  Parameters: {'max_depth': 3, 'n_estimators': 500}\n",
      "  Backtesting metric: 8.344977659845428\n",
      "\n"
     ]
    }
   ],
   "source": [
    "# Hyperparameter grid search\n",
    "# ==============================================================================\n",
    "steps = 184\n",
    "forecaster = ForecasterAutoreg(\n",
    "                regressor = RandomForestRegressor(random_state=123),\n",
    "                lags      = 12 # This value will be replaced in the grid search\n",
    "             )\n",
    "\n",
    "# Lags used as predictors\n",
    "lags_grid = [10, 20]\n",
    "\n",
    "# Regressor's hyperparameters\n",
    "param_grid = {'n_estimators': [100, 500],\n",
    "              'max_depth': [3, 5, 10]}\n",
    "\n",
    "results_grid = grid_search_forecaster(\n",
    "                        forecaster         = forecaster,\n",
    "                        y                  = data_train['INF_Value_log'],\n",
    "                        param_grid         = param_grid,\n",
    "                        lags_grid          = lags_grid,\n",
    "                        steps              = steps,\n",
    "                        refit              = False,\n",
    "                        metric             = 'mean_squared_error',\n",
    "                        initial_train_size = int(len(data_train)*0.5),\n",
    "                        fixed_train_size   = False,\n",
    "                        return_best        = True,\n",
    "                        n_jobs             = 'auto',\n",
    "                        verbose            = False\n",
    "               )"
   ]
  },
  {
   "cell_type": "code",
   "execution_count": 103,
   "id": "5b05ba9b",
   "metadata": {},
   "outputs": [
    {
     "data": {
      "text/html": [
       "<div>\n",
       "<style scoped>\n",
       "    .dataframe tbody tr th:only-of-type {\n",
       "        vertical-align: middle;\n",
       "    }\n",
       "\n",
       "    .dataframe tbody tr th {\n",
       "        vertical-align: top;\n",
       "    }\n",
       "\n",
       "    .dataframe thead th {\n",
       "        text-align: right;\n",
       "    }\n",
       "</style>\n",
       "<table border=\"1\" class=\"dataframe\">\n",
       "  <thead>\n",
       "    <tr style=\"text-align: right;\">\n",
       "      <th></th>\n",
       "      <th>lags</th>\n",
       "      <th>params</th>\n",
       "      <th>mean_squared_error</th>\n",
       "      <th>max_depth</th>\n",
       "      <th>n_estimators</th>\n",
       "    </tr>\n",
       "  </thead>\n",
       "  <tbody>\n",
       "    <tr>\n",
       "      <th>7</th>\n",
       "      <td>[1, 2, 3, 4, 5, 6, 7, 8, 9, 10, 11, 12, 13, 14...</td>\n",
       "      <td>{'max_depth': 3, 'n_estimators': 500}</td>\n",
       "      <td>8.344978</td>\n",
       "      <td>3</td>\n",
       "      <td>500</td>\n",
       "    </tr>\n",
       "    <tr>\n",
       "      <th>6</th>\n",
       "      <td>[1, 2, 3, 4, 5, 6, 7, 8, 9, 10, 11, 12, 13, 14...</td>\n",
       "      <td>{'max_depth': 3, 'n_estimators': 100}</td>\n",
       "      <td>8.517145</td>\n",
       "      <td>3</td>\n",
       "      <td>100</td>\n",
       "    </tr>\n",
       "    <tr>\n",
       "      <th>1</th>\n",
       "      <td>[1, 2, 3, 4, 5, 6, 7, 8, 9, 10]</td>\n",
       "      <td>{'max_depth': 3, 'n_estimators': 500}</td>\n",
       "      <td>9.332078</td>\n",
       "      <td>3</td>\n",
       "      <td>500</td>\n",
       "    </tr>\n",
       "    <tr>\n",
       "      <th>0</th>\n",
       "      <td>[1, 2, 3, 4, 5, 6, 7, 8, 9, 10]</td>\n",
       "      <td>{'max_depth': 3, 'n_estimators': 100}</td>\n",
       "      <td>9.472996</td>\n",
       "      <td>3</td>\n",
       "      <td>100</td>\n",
       "    </tr>\n",
       "    <tr>\n",
       "      <th>9</th>\n",
       "      <td>[1, 2, 3, 4, 5, 6, 7, 8, 9, 10, 11, 12, 13, 14...</td>\n",
       "      <td>{'max_depth': 5, 'n_estimators': 500}</td>\n",
       "      <td>9.658513</td>\n",
       "      <td>5</td>\n",
       "      <td>500</td>\n",
       "    </tr>\n",
       "    <tr>\n",
       "      <th>3</th>\n",
       "      <td>[1, 2, 3, 4, 5, 6, 7, 8, 9, 10]</td>\n",
       "      <td>{'max_depth': 5, 'n_estimators': 500}</td>\n",
       "      <td>9.789466</td>\n",
       "      <td>5</td>\n",
       "      <td>500</td>\n",
       "    </tr>\n",
       "    <tr>\n",
       "      <th>2</th>\n",
       "      <td>[1, 2, 3, 4, 5, 6, 7, 8, 9, 10]</td>\n",
       "      <td>{'max_depth': 5, 'n_estimators': 100}</td>\n",
       "      <td>9.835709</td>\n",
       "      <td>5</td>\n",
       "      <td>100</td>\n",
       "    </tr>\n",
       "    <tr>\n",
       "      <th>8</th>\n",
       "      <td>[1, 2, 3, 4, 5, 6, 7, 8, 9, 10, 11, 12, 13, 14...</td>\n",
       "      <td>{'max_depth': 5, 'n_estimators': 100}</td>\n",
       "      <td>9.967775</td>\n",
       "      <td>5</td>\n",
       "      <td>100</td>\n",
       "    </tr>\n",
       "    <tr>\n",
       "      <th>4</th>\n",
       "      <td>[1, 2, 3, 4, 5, 6, 7, 8, 9, 10]</td>\n",
       "      <td>{'max_depth': 10, 'n_estimators': 100}</td>\n",
       "      <td>10.332836</td>\n",
       "      <td>10</td>\n",
       "      <td>100</td>\n",
       "    </tr>\n",
       "    <tr>\n",
       "      <th>5</th>\n",
       "      <td>[1, 2, 3, 4, 5, 6, 7, 8, 9, 10]</td>\n",
       "      <td>{'max_depth': 10, 'n_estimators': 500}</td>\n",
       "      <td>10.467604</td>\n",
       "      <td>10</td>\n",
       "      <td>500</td>\n",
       "    </tr>\n",
       "    <tr>\n",
       "      <th>11</th>\n",
       "      <td>[1, 2, 3, 4, 5, 6, 7, 8, 9, 10, 11, 12, 13, 14...</td>\n",
       "      <td>{'max_depth': 10, 'n_estimators': 500}</td>\n",
       "      <td>10.590209</td>\n",
       "      <td>10</td>\n",
       "      <td>500</td>\n",
       "    </tr>\n",
       "    <tr>\n",
       "      <th>10</th>\n",
       "      <td>[1, 2, 3, 4, 5, 6, 7, 8, 9, 10, 11, 12, 13, 14...</td>\n",
       "      <td>{'max_depth': 10, 'n_estimators': 100}</td>\n",
       "      <td>10.712938</td>\n",
       "      <td>10</td>\n",
       "      <td>100</td>\n",
       "    </tr>\n",
       "  </tbody>\n",
       "</table>\n",
       "</div>"
      ],
      "text/plain": [
       "                                                 lags  \\\n",
       "7   [1, 2, 3, 4, 5, 6, 7, 8, 9, 10, 11, 12, 13, 14...   \n",
       "6   [1, 2, 3, 4, 5, 6, 7, 8, 9, 10, 11, 12, 13, 14...   \n",
       "1                     [1, 2, 3, 4, 5, 6, 7, 8, 9, 10]   \n",
       "0                     [1, 2, 3, 4, 5, 6, 7, 8, 9, 10]   \n",
       "9   [1, 2, 3, 4, 5, 6, 7, 8, 9, 10, 11, 12, 13, 14...   \n",
       "3                     [1, 2, 3, 4, 5, 6, 7, 8, 9, 10]   \n",
       "2                     [1, 2, 3, 4, 5, 6, 7, 8, 9, 10]   \n",
       "8   [1, 2, 3, 4, 5, 6, 7, 8, 9, 10, 11, 12, 13, 14...   \n",
       "4                     [1, 2, 3, 4, 5, 6, 7, 8, 9, 10]   \n",
       "5                     [1, 2, 3, 4, 5, 6, 7, 8, 9, 10]   \n",
       "11  [1, 2, 3, 4, 5, 6, 7, 8, 9, 10, 11, 12, 13, 14...   \n",
       "10  [1, 2, 3, 4, 5, 6, 7, 8, 9, 10, 11, 12, 13, 14...   \n",
       "\n",
       "                                    params  mean_squared_error  max_depth  \\\n",
       "7    {'max_depth': 3, 'n_estimators': 500}            8.344978          3   \n",
       "6    {'max_depth': 3, 'n_estimators': 100}            8.517145          3   \n",
       "1    {'max_depth': 3, 'n_estimators': 500}            9.332078          3   \n",
       "0    {'max_depth': 3, 'n_estimators': 100}            9.472996          3   \n",
       "9    {'max_depth': 5, 'n_estimators': 500}            9.658513          5   \n",
       "3    {'max_depth': 5, 'n_estimators': 500}            9.789466          5   \n",
       "2    {'max_depth': 5, 'n_estimators': 100}            9.835709          5   \n",
       "8    {'max_depth': 5, 'n_estimators': 100}            9.967775          5   \n",
       "4   {'max_depth': 10, 'n_estimators': 100}           10.332836         10   \n",
       "5   {'max_depth': 10, 'n_estimators': 500}           10.467604         10   \n",
       "11  {'max_depth': 10, 'n_estimators': 500}           10.590209         10   \n",
       "10  {'max_depth': 10, 'n_estimators': 100}           10.712938         10   \n",
       "\n",
       "    n_estimators  \n",
       "7            500  \n",
       "6            100  \n",
       "1            500  \n",
       "0            100  \n",
       "9            500  \n",
       "3            500  \n",
       "2            100  \n",
       "8            100  \n",
       "4            100  \n",
       "5            500  \n",
       "11           500  \n",
       "10           100  "
      ]
     },
     "execution_count": 103,
     "metadata": {},
     "output_type": "execute_result"
    }
   ],
   "source": [
    "results_grid\n"
   ]
  },
  {
   "cell_type": "code",
   "execution_count": 104,
   "id": "2c800d76",
   "metadata": {},
   "outputs": [],
   "source": [
    "# Create and train forecaster with the best hyperparameters\n",
    "# ==============================================================================\n",
    "regressor = RandomForestRegressor(max_depth=3, n_estimators=500, random_state=123)\n",
    "forecaster = ForecasterAutoreg(\n",
    "                regressor = regressor,\n",
    "                lags      = 20\n",
    "             )\n",
    "\n",
    "forecaster.fit(y=data_train['INF_Value_log'])"
   ]
  },
  {
   "cell_type": "code",
   "execution_count": 105,
   "id": "2f74230b",
   "metadata": {},
   "outputs": [],
   "source": [
    "predictions = forecaster.predict(steps=steps)\n"
   ]
  },
  {
   "cell_type": "code",
   "execution_count": 106,
   "id": "4fb94deb",
   "metadata": {},
   "outputs": [
    {
     "data": {
      "image/png": "[encoded data removed]",
      "text/plain": [
       "<Figure size 600x250 with 1 Axes>"
      ]
     },
     "metadata": {},
     "output_type": "display_data"
    }
   ],
   "source": [
    "# Plot\n",
    "# ==============================================================================\n",
    "fig, ax = plt.subplots(figsize=(6, 2.5))\n",
    "data_train['INF_Value_log'].plot(ax=ax, label='train')\n",
    "data_test['INF_Value_log'].plot(ax=ax, label='test')\n",
    "predictions.plot(ax=ax, label='predictions')\n",
    "ax.legend();"
   ]
  },
  {
   "cell_type": "code",
   "execution_count": 107,
   "id": "40be01d7",
   "metadata": {},
   "outputs": [
    {
     "name": "stdout",
     "output_type": "stream",
     "text": [
      "Test error (mse): 4.914906952804489\n"
     ]
    }
   ],
   "source": [
    "# Test error\n",
    "# ==============================================================================\n",
    "error_mse = mean_squared_error(\n",
    "                y_true = data_test['INF_Value_log'],\n",
    "                y_pred = predictions\n",
    "            )\n",
    "\n",
    "print(f\"Test error (mse): {error_mse}\")"
   ]
  },
  {
   "cell_type": "code",
   "execution_count": 108,
   "id": "10fa5fbe",
   "metadata": {},
   "outputs": [
    {
     "name": "stdout",
     "output_type": "stream",
     "text": [
      "Information of backtesting process\n",
      "----------------------------------\n",
      "Number of observations used for initial training: 810\n",
      "Number of observations used for backtesting: 552\n",
      "    Number of folds: 3\n",
      "    Number of steps per fold: 184\n",
      "    Number of steps to exclude from the end of each train set before test (gap): 0\n",
      "\n",
      "Fold: 0\n",
      "    Training:   0 -- 809  (n=810)\n",
      "    Validation: 810 -- 993  (n=184)\n",
      "Fold: 1\n",
      "    Training:   0 -- 993  (n=994)\n",
      "    Validation: 994 -- 1177  (n=184)\n",
      "Fold: 2\n",
      "    Training:   0 -- 1177  (n=1178)\n",
      "    Validation: 1178 -- 1361  (n=184)\n",
      "\n"
     ]
    },
    {
     "data": {
      "application/vnd.jupyter.widget-view+json": {
       "model_id": "03216ee30d514fb39fc1460c1049fc37",
       "version_major": 2,
       "version_minor": 0
      },
      "text/plain": [
       "  0%|          | 0/3 [00:00<?, ?it/s]"
      ]
     },
     "metadata": {},
     "output_type": "display_data"
    },
    {
     "name": "stdout",
     "output_type": "stream",
     "text": [
      "Backtest error: 8.4004083349818\n"
     ]
    }
   ],
   "source": [
    "# Backtesting\n",
    "# ==============================================================================\n",
    "steps = 184\n",
    "n_backtesting = 184*3 # The last 9 years are separated for the backtest\n",
    "\n",
    "metric, predictions_backtest = backtesting_forecaster(\n",
    "                                    forecaster         = forecaster,\n",
    "                                    y                  = data_train['INF_Value_log'],\n",
    "                                    initial_train_size = len(data_train) - n_backtesting,\n",
    "                                    fixed_train_size   = False,\n",
    "                                    steps              = steps,\n",
    "                                    metric             = 'mean_squared_error',\n",
    "                                    refit              = True,\n",
    "                                    verbose            = True,\n",
    "                                    show_progress      = True\n",
    "                                )\n",
    "\n",
    "print(f\"Backtest error: {metric}\")"
   ]
  },
  {
   "cell_type": "code",
   "execution_count": 109,
   "id": "a728e935",
   "metadata": {},
   "outputs": [
    {
     "data": {
      "image/png": "[encoded data removed]",
      "text/plain": [
       "<Figure size 600x250 with 1 Axes>"
      ]
     },
     "metadata": {},
     "output_type": "display_data"
    }
   ],
   "source": [
    "# Plot backtest predictions vs real values\n",
    "# ==============================================================================\n",
    "fig, ax = plt.subplots(figsize=(6, 2.5))\n",
    "data_train.loc[predictions_backtest.index, 'INF_Value_log'].plot(ax=ax, label='test')\n",
    "predictions_backtest.plot(ax=ax, label='predictions')\n",
    "ax.legend();\n"
   ]
  },
  {
   "cell_type": "code",
   "execution_count": 110,
   "id": "4a20b347",
   "metadata": {},
   "outputs": [
    {
     "data": {
      "text/html": [
       "<div>\n",
       "<style scoped>\n",
       "    .dataframe tbody tr th:only-of-type {\n",
       "        vertical-align: middle;\n",
       "    }\n",
       "\n",
       "    .dataframe tbody tr th {\n",
       "        vertical-align: top;\n",
       "    }\n",
       "\n",
       "    .dataframe thead th {\n",
       "        text-align: right;\n",
       "    }\n",
       "</style>\n",
       "<table border=\"1\" class=\"dataframe\">\n",
       "  <thead>\n",
       "    <tr style=\"text-align: right;\">\n",
       "      <th></th>\n",
       "      <th>feature</th>\n",
       "      <th>importance</th>\n",
       "    </tr>\n",
       "  </thead>\n",
       "  <tbody>\n",
       "    <tr>\n",
       "      <th>0</th>\n",
       "      <td>lag_1</td>\n",
       "      <td>0.291394</td>\n",
       "    </tr>\n",
       "    <tr>\n",
       "      <th>1</th>\n",
       "      <td>lag_2</td>\n",
       "      <td>0.018616</td>\n",
       "    </tr>\n",
       "    <tr>\n",
       "      <th>2</th>\n",
       "      <td>lag_3</td>\n",
       "      <td>0.003848</td>\n",
       "    </tr>\n",
       "    <tr>\n",
       "      <th>3</th>\n",
       "      <td>lag_4</td>\n",
       "      <td>0.020199</td>\n",
       "    </tr>\n",
       "    <tr>\n",
       "      <th>4</th>\n",
       "      <td>lag_5</td>\n",
       "      <td>0.078232</td>\n",
       "    </tr>\n",
       "    <tr>\n",
       "      <th>5</th>\n",
       "      <td>lag_6</td>\n",
       "      <td>0.009007</td>\n",
       "    </tr>\n",
       "    <tr>\n",
       "      <th>6</th>\n",
       "      <td>lag_7</td>\n",
       "      <td>0.033498</td>\n",
       "    </tr>\n",
       "    <tr>\n",
       "      <th>7</th>\n",
       "      <td>lag_8</td>\n",
       "      <td>0.029944</td>\n",
       "    </tr>\n",
       "    <tr>\n",
       "      <th>8</th>\n",
       "      <td>lag_9</td>\n",
       "      <td>0.005146</td>\n",
       "    </tr>\n",
       "    <tr>\n",
       "      <th>9</th>\n",
       "      <td>lag_10</td>\n",
       "      <td>0.007956</td>\n",
       "    </tr>\n",
       "    <tr>\n",
       "      <th>10</th>\n",
       "      <td>lag_11</td>\n",
       "      <td>0.001444</td>\n",
       "    </tr>\n",
       "    <tr>\n",
       "      <th>11</th>\n",
       "      <td>lag_12</td>\n",
       "      <td>0.031008</td>\n",
       "    </tr>\n",
       "    <tr>\n",
       "      <th>12</th>\n",
       "      <td>lag_13</td>\n",
       "      <td>0.011044</td>\n",
       "    </tr>\n",
       "    <tr>\n",
       "      <th>13</th>\n",
       "      <td>lag_14</td>\n",
       "      <td>0.016041</td>\n",
       "    </tr>\n",
       "    <tr>\n",
       "      <th>14</th>\n",
       "      <td>lag_15</td>\n",
       "      <td>0.004540</td>\n",
       "    </tr>\n",
       "    <tr>\n",
       "      <th>15</th>\n",
       "      <td>lag_16</td>\n",
       "      <td>0.019212</td>\n",
       "    </tr>\n",
       "    <tr>\n",
       "      <th>16</th>\n",
       "      <td>lag_17</td>\n",
       "      <td>0.001769</td>\n",
       "    </tr>\n",
       "    <tr>\n",
       "      <th>17</th>\n",
       "      <td>lag_18</td>\n",
       "      <td>0.003821</td>\n",
       "    </tr>\n",
       "    <tr>\n",
       "      <th>18</th>\n",
       "      <td>lag_19</td>\n",
       "      <td>0.005656</td>\n",
       "    </tr>\n",
       "    <tr>\n",
       "      <th>19</th>\n",
       "      <td>lag_20</td>\n",
       "      <td>0.407625</td>\n",
       "    </tr>\n",
       "  </tbody>\n",
       "</table>\n",
       "</div>"
      ],
      "text/plain": [
       "   feature  importance\n",
       "0    lag_1    0.291394\n",
       "1    lag_2    0.018616\n",
       "2    lag_3    0.003848\n",
       "3    lag_4    0.020199\n",
       "4    lag_5    0.078232\n",
       "5    lag_6    0.009007\n",
       "6    lag_7    0.033498\n",
       "7    lag_8    0.029944\n",
       "8    lag_9    0.005146\n",
       "9   lag_10    0.007956\n",
       "10  lag_11    0.001444\n",
       "11  lag_12    0.031008\n",
       "12  lag_13    0.011044\n",
       "13  lag_14    0.016041\n",
       "14  lag_15    0.004540\n",
       "15  lag_16    0.019212\n",
       "16  lag_17    0.001769\n",
       "17  lag_18    0.003821\n",
       "18  lag_19    0.005656\n",
       "19  lag_20    0.407625"
      ]
     },
     "execution_count": 110,
     "metadata": {},
     "output_type": "execute_result"
    }
   ],
   "source": [
    "forecaster.get_feature_importances()\n"
   ]
  },
  {
   "cell_type": "code",
   "execution_count": 111,
   "id": "dc2eae20",
   "metadata": {},
   "outputs": [
    {
     "data": {
      "text/plain": [
       "================= \n",
       "ForecasterAutoreg \n",
       "================= \n",
       "Regressor: RandomForestRegressor(random_state=123) \n",
       "Lags: [1 2 3 4 5 6 7 8] \n",
       "Transformer for y: None \n",
       "Transformer for exog: None \n",
       "Window size: 8 \n",
       "Weight function included: False \n",
       "Differentiation order: None \n",
       "Exogenous included: True \n",
       "Type of exogenous variable: <class 'pandas.core.series.Series'> \n",
       "Exogenous variables names: temp \n",
       "Training range: [0, 1361] \n",
       "Training index type: RangeIndex \n",
       "Training index frequency: 1 \n",
       "Regressor parameters: {'bootstrap': True, 'ccp_alpha': 0.0, 'criterion': 'squared_error', 'max_depth': None, 'max_features': 1.0, 'max_leaf_nodes': None, 'max_samples': None, 'min_impurity_decrease': 0.0, 'min_samples_leaf': 1, 'min_samples_split': 2, 'min_weight_fraction_leaf': 0.0, 'n_estimators': 100, 'n_jobs': None, 'oob_score': False, 'random_state': 123, 'verbose': 0, 'warm_start': False} \n",
       "fit_kwargs: {} \n",
       "Creation date: 2023-10-22 12:45:16 \n",
       "Last fit date: 2023-10-22 12:45:17 \n",
       "Skforecast version: 0.10.1 \n",
       "Python version: 3.9.7 \n",
       "Forecaster id: None "
      ]
     },
     "execution_count": 111,
     "metadata": {},
     "output_type": "execute_result"
    }
   ],
   "source": [
    "# Create and train forecaster\n",
    "# ==============================================================================\n",
    "forecaster = ForecasterAutoreg(\n",
    "                regressor = RandomForestRegressor(random_state=123),\n",
    "                lags      = 8\n",
    "             )\n",
    "\n",
    "forecaster.fit(y=data_train['INF_Value_log'], exog=data_train['temp'])\n",
    "forecaster"
   ]
  },
  {
   "cell_type": "code",
   "execution_count": 112,
   "id": "64586583",
   "metadata": {},
   "outputs": [],
   "source": [
    "predictions = forecaster.predict(steps=steps, exog=data_test['temp'])\n"
   ]
  },
  {
   "cell_type": "code",
   "execution_count": 113,
   "id": "fa797c41",
   "metadata": {},
   "outputs": [
    {
     "data": {
      "image/png": "[encoded data removed]",
      "text/plain": [
       "<Figure size 600x250 with 1 Axes>"
      ]
     },
     "metadata": {},
     "output_type": "display_data"
    }
   ],
   "source": [
    "# Plot\n",
    "# ==============================================================================\n",
    "fig, ax = plt.subplots(figsize=(6, 2.5))\n",
    "data_train['INF_Value_log'].plot(ax=ax, label='train')\n",
    "data_test['INF_Value_log'].plot(ax=ax, label='test')\n",
    "predictions.plot(ax=ax, label='predictions')\n",
    "ax.legend();"
   ]
  },
  {
   "cell_type": "code",
   "execution_count": 114,
   "id": "ac542aa7",
   "metadata": {},
   "outputs": [
    {
     "name": "stdout",
     "output_type": "stream",
     "text": [
      "Test error (mse): 4.77365743512315\n"
     ]
    }
   ],
   "source": [
    "# Test error\n",
    "# ==============================================================================\n",
    "error_mse = mean_squared_error(\n",
    "                y_true = data_test['INF_Value_log'],\n",
    "                y_pred = predictions\n",
    "            )\n",
    "\n",
    "print(f\"Test error (mse): {error_mse}\")"
   ]
  },
  {
   "cell_type": "code",
   "execution_count": 121,
   "id": "1ab7de3e",
   "metadata": {},
   "outputs": [
    {
     "name": "stdout",
     "output_type": "stream",
     "text": [
      "Number of models compared: 27.\n"
     ]
    },
    {
     "data": {
      "application/vnd.jupyter.widget-view+json": {
       "model_id": "1757c272d36f4cdca422eb604d3a8a4a",
       "version_major": 2,
       "version_minor": 0
      },
      "text/plain": [
       "lags grid:   0%|          | 0/3 [00:00<?, ?it/s]"
      ]
     },
     "metadata": {},
     "output_type": "display_data"
    },
    {
     "data": {
      "application/vnd.jupyter.widget-view+json": {
       "model_id": "c3bc5e714bfb4220af134ece12f0099e",
       "version_major": 2,
       "version_minor": 0
      },
      "text/plain": [
       "params grid:   0%|          | 0/9 [00:00<?, ?it/s]"
      ]
     },
     "metadata": {},
     "output_type": "display_data"
    },
    {
     "name": "stdout",
     "output_type": "stream",
     "text": [
      "`Forecaster` refitted using the best-found lags and parameters, and the whole data set: \n",
      "  Lags: [ 1  2  3  4  5  6  7  8  9 10 11 12 13 14 15 16 17 18 19 20] \n",
      "  Parameters: {'max_depth': 3, 'n_estimators': 500}\n",
      "  Backtesting metric: 8.344954113511973\n",
      "\n"
     ]
    }
   ],
   "source": [
    "# Hyperparameter Grid search\n",
    "# ==============================================================================\n",
    "steps = 184\n",
    "forecaster = ForecasterAutoreg(\n",
    "                regressor = RandomForestRegressor(random_state=123),\n",
    "                lags      = 12 # This value will be replaced in the grid search\n",
    "             )\n",
    "\n",
    "lags_grid = [5, 12, 20]\n",
    "\n",
    "param_grid = {'n_estimators': [50, 100, 500],\n",
    "              'max_depth': [3, 5, 10]}\n",
    "\n",
    "results_grid = grid_search_forecaster(\n",
    "                    forecaster  = forecaster,\n",
    "                    y           = data_train['INF_Value_log'],\n",
    "                    exog        = data_train['temp'],\n",
    "                    param_grid  = param_grid,\n",
    "                    lags_grid   = lags_grid,\n",
    "                    steps       = steps,\n",
    "                    refit       = False,\n",
    "                    metric      = 'mean_squared_error',\n",
    "                    initial_train_size = int(len(data_train)*0.5),\n",
    "                    return_best = True,\n",
    "                    n_jobs      = 'auto',\n",
    "                    verbose     = False\n",
    "               )"
   ]
  },
  {
   "cell_type": "code",
   "execution_count": 125,
   "id": "8dfe2024",
   "metadata": {},
   "outputs": [
    {
     "data": {
      "text/html": [
       "<div>\n",
       "<style scoped>\n",
       "    .dataframe tbody tr th:only-of-type {\n",
       "        vertical-align: middle;\n",
       "    }\n",
       "\n",
       "    .dataframe tbody tr th {\n",
       "        vertical-align: top;\n",
       "    }\n",
       "\n",
       "    .dataframe thead th {\n",
       "        text-align: right;\n",
       "    }\n",
       "</style>\n",
       "<table border=\"1\" class=\"dataframe\">\n",
       "  <thead>\n",
       "    <tr style=\"text-align: right;\">\n",
       "      <th></th>\n",
       "      <th>lags</th>\n",
       "      <th>params</th>\n",
       "      <th>mean_squared_error</th>\n",
       "      <th>max_depth</th>\n",
       "      <th>n_estimators</th>\n",
       "    </tr>\n",
       "  </thead>\n",
       "  <tbody>\n",
       "    <tr>\n",
       "      <th>20</th>\n",
       "      <td>[1, 2, 3, 4, 5, 6, 7, 8, 9, 10, 11, 12, 13, 14...</td>\n",
       "      <td>{'max_depth': 3, 'n_estimators': 500}</td>\n",
       "      <td>8.344954</td>\n",
       "      <td>3</td>\n",
       "      <td>500</td>\n",
       "    </tr>\n",
       "    <tr>\n",
       "      <th>18</th>\n",
       "      <td>[1, 2, 3, 4, 5, 6, 7, 8, 9, 10, 11, 12, 13, 14...</td>\n",
       "      <td>{'max_depth': 3, 'n_estimators': 50}</td>\n",
       "      <td>8.489846</td>\n",
       "      <td>3</td>\n",
       "      <td>50</td>\n",
       "    </tr>\n",
       "    <tr>\n",
       "      <th>19</th>\n",
       "      <td>[1, 2, 3, 4, 5, 6, 7, 8, 9, 10, 11, 12, 13, 14...</td>\n",
       "      <td>{'max_depth': 3, 'n_estimators': 100}</td>\n",
       "      <td>8.516966</td>\n",
       "      <td>3</td>\n",
       "      <td>100</td>\n",
       "    </tr>\n",
       "    <tr>\n",
       "      <th>9</th>\n",
       "      <td>[1, 2, 3, 4, 5, 6, 7, 8, 9, 10, 11, 12]</td>\n",
       "      <td>{'max_depth': 3, 'n_estimators': 50}</td>\n",
       "      <td>9.304368</td>\n",
       "      <td>3</td>\n",
       "      <td>50</td>\n",
       "    </tr>\n",
       "    <tr>\n",
       "      <th>11</th>\n",
       "      <td>[1, 2, 3, 4, 5, 6, 7, 8, 9, 10, 11, 12]</td>\n",
       "      <td>{'max_depth': 3, 'n_estimators': 500}</td>\n",
       "      <td>9.317760</td>\n",
       "      <td>3</td>\n",
       "      <td>500</td>\n",
       "    </tr>\n",
       "  </tbody>\n",
       "</table>\n",
       "</div>"
      ],
      "text/plain": [
       "                                                 lags  \\\n",
       "20  [1, 2, 3, 4, 5, 6, 7, 8, 9, 10, 11, 12, 13, 14...   \n",
       "18  [1, 2, 3, 4, 5, 6, 7, 8, 9, 10, 11, 12, 13, 14...   \n",
       "19  [1, 2, 3, 4, 5, 6, 7, 8, 9, 10, 11, 12, 13, 14...   \n",
       "9             [1, 2, 3, 4, 5, 6, 7, 8, 9, 10, 11, 12]   \n",
       "11            [1, 2, 3, 4, 5, 6, 7, 8, 9, 10, 11, 12]   \n",
       "\n",
       "                                   params  mean_squared_error  max_depth  \\\n",
       "20  {'max_depth': 3, 'n_estimators': 500}            8.344954          3   \n",
       "18   {'max_depth': 3, 'n_estimators': 50}            8.489846          3   \n",
       "19  {'max_depth': 3, 'n_estimators': 100}            8.516966          3   \n",
       "9    {'max_depth': 3, 'n_estimators': 50}            9.304368          3   \n",
       "11  {'max_depth': 3, 'n_estimators': 500}            9.317760          3   \n",
       "\n",
       "    n_estimators  \n",
       "20           500  \n",
       "18            50  \n",
       "19           100  \n",
       "9             50  \n",
       "11           500  "
      ]
     },
     "execution_count": 125,
     "metadata": {},
     "output_type": "execute_result"
    }
   ],
   "source": [
    "results_grid.head()"
   ]
  },
  {
   "cell_type": "code",
   "execution_count": 138,
   "id": "155f9065",
   "metadata": {},
   "outputs": [
    {
     "name": "stdout",
     "output_type": "stream",
     "text": [
      "   temp  visibility  solarenergy  cloudcover  precip  solarradiation  dew  \\\n",
      "0  24.0        14.8         24.4        29.4     0.0           452.7  3.8   \n",
      "1  24.0        14.8         24.4        29.4     0.0           452.7  3.8   \n",
      "2  24.0        14.8         24.4        29.4     0.0           452.7  3.8   \n",
      "3  24.0        14.8         24.4        29.4     0.0           452.7  3.8   \n",
      "4  25.8        14.6         24.7        33.7     0.0           456.5  7.7   \n",
      "\n",
      "   humidity  precipcover  windchill      INF_Value  Sector_Neta Zone_1 Zone_2  \\\n",
      "0     27.87          0.0        9.3    4551.000000     22110000      0      0   \n",
      "1     27.87          0.0        9.3  256156.359375     22131000    1.0      0   \n",
      "2     27.87          0.0        9.3  950155.625000     22130000      0      0   \n",
      "3     27.87          0.0        9.3  396873.937500     22132100    1.0      1   \n",
      "4     35.15          0.0        9.3    4662.100098     22110000      0      0   \n",
      "\n",
      "   Zone_3  INF_Value_log  \n",
      "0     0.0       8.423322  \n",
      "1     0.0      12.453547  \n",
      "2     0.0      13.764382  \n",
      "3     0.0      12.891376  \n",
      "4     0.0       8.447436  \n"
     ]
    }
   ],
   "source": [
    "print(data_train.head())"
   ]
  },
  {
   "cell_type": "code",
   "execution_count": 132,
   "id": "b446844d",
   "metadata": {},
   "outputs": [
    {
     "name": "stdout",
     "output_type": "stream",
     "text": [
      "Test error (mse) 4.77365743512315\n"
     ]
    }
   ],
   "source": [
    "# Test error\n",
    "# ==============================================================================\n",
    "error_mse = mean_squared_error(y_true = data_test['INF_Value_log'], y_pred = predictions)\n",
    "print(f\"Test error (mse) {error_mse}\")"
   ]
  },
  {
   "cell_type": "code",
   "execution_count": 140,
   "id": "1aa6f43a",
   "metadata": {},
   "outputs": [
    {
     "data": {
      "text/plain": [
       "======================= \n",
       "ForecasterAutoregDirect \n",
       "======================= \n",
       "Regressor: Lasso(random_state=123) \n",
       "Lags: [1 2 3 4 5 6 7 8] \n",
       "Transformer for y: StandardScaler() \n",
       "Transformer for exog: None \n",
       "Weight function included: False \n",
       "Window size: 8 \n",
       "Maximum steps predicted: 184 \n",
       "Exogenous included: False \n",
       "Type of exogenous variable: None \n",
       "Exogenous variables names: None \n",
       "Training range: None \n",
       "Training index type: None \n",
       "Training index frequency: None \n",
       "Regressor parameters: {'alpha': 1.0, 'copy_X': True, 'fit_intercept': True, 'max_iter': 1000, 'positive': False, 'precompute': False, 'random_state': 123, 'selection': 'cyclic', 'tol': 0.0001, 'warm_start': False} \n",
       "fit_kwargs: {} \n",
       "Creation date: 2023-10-22 14:34:37 \n",
       "Last fit date: None \n",
       "Skforecast version: 0.10.1 \n",
       "Python version: 3.9.7 \n",
       "Forecaster id: None "
      ]
     },
     "execution_count": 140,
     "metadata": {},
     "output_type": "execute_result"
    }
   ],
   "source": [
    "# Create and train forecaster\n",
    "# ==============================================================================\n",
    "forecaster = ForecasterAutoregDirect(\n",
    "                regressor     = Lasso(random_state=123),\n",
    "                transformer_y = StandardScaler(),\n",
    "                steps         = 184,\n",
    "                lags          = 8\n",
    "             )\n",
    "\n",
    "forecaster"
   ]
  },
  {
   "cell_type": "code",
   "execution_count": 142,
   "id": "86e832e5",
   "metadata": {},
   "outputs": [
    {
     "name": "stdout",
     "output_type": "stream",
     "text": [
      "Number of models compared: 30.\n"
     ]
    },
    {
     "data": {
      "application/vnd.jupyter.widget-view+json": {
       "model_id": "5bf0871cf32a4a67961472e1720b4e6e",
       "version_major": 2,
       "version_minor": 0
      },
      "text/plain": [
       "lags grid:   0%|          | 0/3 [00:00<?, ?it/s]"
      ]
     },
     "metadata": {},
     "output_type": "display_data"
    },
    {
     "data": {
      "application/vnd.jupyter.widget-view+json": {
       "model_id": "81436f7f68d6464dafffdd55ffc96ed8",
       "version_major": 2,
       "version_minor": 0
      },
      "text/plain": [
       "params grid:   0%|          | 0/10 [00:00<?, ?it/s]"
      ]
     },
     "metadata": {},
     "output_type": "display_data"
    },
    {
     "name": "stdout",
     "output_type": "stream",
     "text": [
      "`Forecaster` refitted using the best-found lags and parameters, and the whole data set: \n",
      "  Lags: [1 2 3 4 5] \n",
      "  Parameters: {'alpha': 0.021544346900318846}\n",
      "  Backtesting metric: 269711825930.21945\n",
      "\n"
     ]
    }
   ],
   "source": [
    "# Hyperparameter Grid search\n",
    "# ==============================================================================\n",
    "from skforecast.exceptions import LongTrainingWarning\n",
    "warnings.simplefilter('ignore', category=LongTrainingWarning)\n",
    "\n",
    "forecaster = ForecasterAutoregDirect(\n",
    "                regressor     = Lasso(random_state=123),\n",
    "                transformer_y = StandardScaler(),\n",
    "                steps         = 184,\n",
    "                lags          = 8 # This value will be replaced in the grid search\n",
    "             )\n",
    "\n",
    "param_grid = {'alpha': np.logspace(-5, 5, 10)}\n",
    "lags_grid = [5, 12, 20]\n",
    "\n",
    "results_grid = grid_search_forecaster(\n",
    "                    forecaster         = forecaster,\n",
    "                    y                  = data_train['INF_Value'],\n",
    "                    param_grid         = param_grid,\n",
    "                    lags_grid          = lags_grid,\n",
    "                    steps              = 184,\n",
    "                    refit              = False,\n",
    "                    metric             = 'mean_squared_error',\n",
    "                    initial_train_size = int(len(data_train)*0.5),\n",
    "                    fixed_train_size   = False,\n",
    "                    return_best        = True,\n",
    "                    n_jobs             = 'auto',\n",
    "                    verbose            = False\n",
    "                )"
   ]
  },
  {
   "cell_type": "code",
   "execution_count": 143,
   "id": "a076e555",
   "metadata": {},
   "outputs": [
    {
     "data": {
      "text/html": [
       "<div>\n",
       "<style scoped>\n",
       "    .dataframe tbody tr th:only-of-type {\n",
       "        vertical-align: middle;\n",
       "    }\n",
       "\n",
       "    .dataframe tbody tr th {\n",
       "        vertical-align: top;\n",
       "    }\n",
       "\n",
       "    .dataframe thead th {\n",
       "        text-align: right;\n",
       "    }\n",
       "</style>\n",
       "<table border=\"1\" class=\"dataframe\">\n",
       "  <thead>\n",
       "    <tr style=\"text-align: right;\">\n",
       "      <th></th>\n",
       "      <th>lags</th>\n",
       "      <th>params</th>\n",
       "      <th>mean_squared_error</th>\n",
       "      <th>alpha</th>\n",
       "    </tr>\n",
       "  </thead>\n",
       "  <tbody>\n",
       "    <tr>\n",
       "      <th>3</th>\n",
       "      <td>[1, 2, 3, 4, 5]</td>\n",
       "      <td>{'alpha': 0.021544346900318846}</td>\n",
       "      <td>2.697118e+11</td>\n",
       "      <td>0.021544</td>\n",
       "    </tr>\n",
       "    <tr>\n",
       "      <th>2</th>\n",
       "      <td>[1, 2, 3, 4, 5]</td>\n",
       "      <td>{'alpha': 0.0016681005372000592}</td>\n",
       "      <td>2.724620e+11</td>\n",
       "      <td>0.001668</td>\n",
       "    </tr>\n",
       "    <tr>\n",
       "      <th>1</th>\n",
       "      <td>[1, 2, 3, 4, 5]</td>\n",
       "      <td>{'alpha': 0.0001291549665014884}</td>\n",
       "      <td>2.727321e+11</td>\n",
       "      <td>0.000129</td>\n",
       "    </tr>\n",
       "    <tr>\n",
       "      <th>0</th>\n",
       "      <td>[1, 2, 3, 4, 5]</td>\n",
       "      <td>{'alpha': 1e-05}</td>\n",
       "      <td>2.727574e+11</td>\n",
       "      <td>0.000010</td>\n",
       "    </tr>\n",
       "    <tr>\n",
       "      <th>13</th>\n",
       "      <td>[1, 2, 3, 4, 5, 6, 7, 8, 9, 10, 11, 12]</td>\n",
       "      <td>{'alpha': 0.021544346900318846}</td>\n",
       "      <td>2.733679e+11</td>\n",
       "      <td>0.021544</td>\n",
       "    </tr>\n",
       "  </tbody>\n",
       "</table>\n",
       "</div>"
      ],
      "text/plain": [
       "                                       lags                            params  \\\n",
       "3                           [1, 2, 3, 4, 5]   {'alpha': 0.021544346900318846}   \n",
       "2                           [1, 2, 3, 4, 5]  {'alpha': 0.0016681005372000592}   \n",
       "1                           [1, 2, 3, 4, 5]  {'alpha': 0.0001291549665014884}   \n",
       "0                           [1, 2, 3, 4, 5]                  {'alpha': 1e-05}   \n",
       "13  [1, 2, 3, 4, 5, 6, 7, 8, 9, 10, 11, 12]   {'alpha': 0.021544346900318846}   \n",
       "\n",
       "    mean_squared_error     alpha  \n",
       "3         2.697118e+11  0.021544  \n",
       "2         2.724620e+11  0.001668  \n",
       "1         2.727321e+11  0.000129  \n",
       "0         2.727574e+11  0.000010  \n",
       "13        2.733679e+11  0.021544  "
      ]
     },
     "execution_count": 143,
     "metadata": {},
     "output_type": "execute_result"
    }
   ],
   "source": [
    "results_grid.head()\n"
   ]
  },
  {
   "cell_type": "code",
   "execution_count": 144,
   "id": "7dab0c4b",
   "metadata": {},
   "outputs": [
    {
     "data": {
      "image/png": "[encoded data removed]",
      "text/plain": [
       "<Figure size 600x250 with 1 Axes>"
      ]
     },
     "metadata": {},
     "output_type": "display_data"
    }
   ],
   "source": [
    "# Predictions\n",
    "# ==============================================================================\n",
    "predictions = forecaster.predict()\n",
    "\n",
    "# Gráfico\n",
    "# ==============================================================================\n",
    "fig, ax = plt.subplots(figsize=(6, 2.5))\n",
    "data_train['INF_Value_log'].plot(ax=ax, label='train')\n",
    "data_test['INF_Value_log'].plot(ax=ax, label='test')\n",
    "predictions.plot(ax=ax, label='predictions')\n",
    "ax.legend();"
   ]
  },
  {
   "cell_type": "markdown",
   "id": "0cd6877d",
   "metadata": {},
   "source": []
  },
  {
   "cell_type": "code",
   "execution_count": 146,
   "id": "d244a153",
   "metadata": {},
   "outputs": [
    {
     "data": {
      "text/html": [
       "<div>\n",
       "<style scoped>\n",
       "    .dataframe tbody tr th:only-of-type {\n",
       "        vertical-align: middle;\n",
       "    }\n",
       "\n",
       "    .dataframe tbody tr th {\n",
       "        vertical-align: top;\n",
       "    }\n",
       "\n",
       "    .dataframe thead th {\n",
       "        text-align: right;\n",
       "    }\n",
       "</style>\n",
       "<table border=\"1\" class=\"dataframe\">\n",
       "  <thead>\n",
       "    <tr style=\"text-align: right;\">\n",
       "      <th></th>\n",
       "      <th>pred</th>\n",
       "      <th>lower_bound</th>\n",
       "      <th>upper_bound</th>\n",
       "    </tr>\n",
       "  </thead>\n",
       "  <tbody>\n",
       "    <tr>\n",
       "      <th>1362</th>\n",
       "      <td>11.016920</td>\n",
       "      <td>1.944800</td>\n",
       "      <td>16.152679</td>\n",
       "    </tr>\n",
       "    <tr>\n",
       "      <th>1363</th>\n",
       "      <td>11.105539</td>\n",
       "      <td>3.483665</td>\n",
       "      <td>16.971505</td>\n",
       "    </tr>\n",
       "    <tr>\n",
       "      <th>1364</th>\n",
       "      <td>11.008280</td>\n",
       "      <td>3.208690</td>\n",
       "      <td>16.118813</td>\n",
       "    </tr>\n",
       "    <tr>\n",
       "      <th>1365</th>\n",
       "      <td>11.484539</td>\n",
       "      <td>2.810827</td>\n",
       "      <td>17.473263</td>\n",
       "    </tr>\n",
       "    <tr>\n",
       "      <th>1366</th>\n",
       "      <td>11.059375</td>\n",
       "      <td>2.858733</td>\n",
       "      <td>16.361435</td>\n",
       "    </tr>\n",
       "  </tbody>\n",
       "</table>\n",
       "</div>"
      ],
      "text/plain": [
       "           pred  lower_bound  upper_bound\n",
       "1362  11.016920     1.944800    16.152679\n",
       "1363  11.105539     3.483665    16.971505\n",
       "1364  11.008280     3.208690    16.118813\n",
       "1365  11.484539     2.810827    17.473263\n",
       "1366  11.059375     2.858733    16.361435"
      ]
     },
     "execution_count": 146,
     "metadata": {},
     "output_type": "execute_result"
    }
   ],
   "source": [
    "# Create and train forecaster\n",
    "# ==============================================================================\n",
    "forecaster = ForecasterAutoreg(\n",
    "                    regressor = LinearRegression(),\n",
    "                    lags = 15\n",
    "             )\n",
    "\n",
    "forecaster.fit(y=data_train[\"INF_Value_log\"])\n",
    "\n",
    "# Prediction intervals\n",
    "# ==============================================================================\n",
    "predictions = forecaster.predict_interval(\n",
    "                    steps    = steps,\n",
    "                    interval = [1, 99],\n",
    "                    n_boot   = 500\n",
    "              )\n",
    "\n",
    "predictions.head(5)"
   ]
  },
  {
   "cell_type": "code",
   "execution_count": 147,
   "id": "d26678a4",
   "metadata": {},
   "outputs": [
    {
     "name": "stdout",
     "output_type": "stream",
     "text": [
      "Test error (mse): 4.311406860942245\n"
     ]
    },
    {
     "data": {
      "image/png": "[encoded data removed]",
      "text/plain": [
       "<Figure size 600x250 with 1 Axes>"
      ]
     },
     "metadata": {},
     "output_type": "display_data"
    }
   ],
   "source": [
    "# Prediction error\n",
    "# ==============================================================================\n",
    "error_mse = mean_squared_error(\n",
    "                y_true = data_test['INF_Value_log'],\n",
    "                y_pred = predictions.iloc[:, 0]\n",
    "            )\n",
    "\n",
    "print(f\"Test error (mse): {error_mse}\")\n",
    "\n",
    "# Plot\n",
    "# ==============================================================================\n",
    "fig, ax = plt.subplots(figsize=(6, 2.5))\n",
    "data_test['INF_Value_log'].plot(ax=ax, label='test')\n",
    "predictions['pred'].plot(ax=ax, label='prediction')\n",
    "ax.fill_between(\n",
    "    predictions.index,\n",
    "    predictions['lower_bound'],\n",
    "    predictions['upper_bound'],\n",
    "    color = 'red',\n",
    "    alpha = 0.2\n",
    ")\n",
    "ax.legend();"
   ]
  },
  {
   "cell_type": "code",
   "execution_count": 156,
   "metadata": {},
   "outputs": [
    {
     "name": "stdout",
     "output_type": "stream",
     "text": [
      "Index(['temp', 'visibility', 'solarenergy', 'cloudcover', 'precip',\n",
      "       'solarradiation', 'dew', 'humidity', 'precipcover', 'windchill',\n",
      "       'INF_Value', 'Sector_Neta', 'Zone_1', 'Zone_2', 'Zone_3',\n",
      "       'INF_Value_log'],\n",
      "      dtype='object')\n"
     ]
    }
   ],
   "source": [
    "print(data_train.columns)\n"
   ]
  },
  {
   "cell_type": "code",
   "execution_count": 210,
   "id": "a41a29bb",
   "metadata": {},
   "outputs": [
    {
     "name": "stdout",
     "output_type": "stream",
     "text": [
      "Information of backtesting process\n",
      "----------------------------------\n",
      "Number of observations used for initial training: 810\n",
      "Number of observations used for backtesting: 552\n",
      "    Number of folds: 3\n",
      "    Number of steps per fold: 184\n",
      "    Number of steps to exclude from the end of each train set before test (gap): 0\n",
      "\n",
      "Fold: 0\n",
      "    Training:   0 -- 809  (n=810)\n",
      "    Validation: 810 -- 993  (n=184)\n",
      "Fold: 1\n",
      "    Training:   0 -- 993  (n=994)\n",
      "    Validation: 994 -- 1177  (n=184)\n",
      "Fold: 2\n",
      "    Training:   0 -- 1177  (n=1178)\n",
      "    Validation: 1178 -- 1361  (n=184)\n",
      "\n"
     ]
    },
    {
     "data": {
      "application/vnd.jupyter.widget-view+json": {
       "model_id": "099c31c0498f4846bec0c88c8da51726",
       "version_major": 2,
       "version_minor": 0
      },
      "text/plain": [
       "  0%|          | 0/3 [00:00<?, ?it/s]"
      ]
     },
     "metadata": {},
     "output_type": "display_data"
    },
    {
     "name": "stdout",
     "output_type": "stream",
     "text": [
      "Test error (mse): 7.035806999243226\n"
     ]
    },
    {
     "data": {
      "image/png": "[encoded data removed]",
      "text/plain": [
       "<Figure size 600x250 with 1 Axes>"
      ]
     },
     "metadata": {},
     "output_type": "display_data"
    }
   ],
   "source": [
    "n_backtesting = 184*3\n",
    "steps = 184\n",
    "forecaster = ForecasterAutoreg(\n",
    "                regressor = LinearRegression(),\n",
    "                lags      = 15\n",
    "             )\n",
    "\n",
    "metric, predictions = backtesting_forecaster(\n",
    "                            forecaster         = forecaster,\n",
    "                            y                  = data_train['INF_Value_log'],\n",
    "                            initial_train_size = len(data_train) - n_backtesting,\n",
    "                            fixed_train_size   = False,\n",
    "                            steps              = steps,\n",
    "                            metric             = 'mean_squared_error',\n",
    "                            refit              = True,\n",
    "                            interval           = [1, 99],\n",
    "                            n_boot             = 100,\n",
    "                            n_jobs             = 'auto',\n",
    "                            verbose            = True\n",
    "                      )\n",
    "\n",
    "print(f\"Test error (mse): {metric}\")  # Changed error_mse to metric\n",
    "\n",
    "# Plot\n",
    "# ==============================================================================\n",
    "fig, ax = plt.subplots(figsize=(6, 2.5))\n",
    "mergeddata.loc[predictions.index, 'INF_Value_log'].plot(ax=ax, label='test')  # Changed data to mergeddata and 'y' to 'INF_Value_log'\n",
    "predictions['pred'].plot(ax=ax, label='predictions')\n",
    "ax.fill_between(\n",
    "    predictions.index,\n",
    "    predictions['lower_bound'],\n",
    "    predictions['upper_bound'],\n",
    "    color = 'red',\n",
    "    alpha = 0.2\n",
    ")\n",
    "ax.legend();\n"
   ]
  },
  {
   "cell_type": "code",
   "execution_count": 211,
   "id": "3a43205e",
   "metadata": {},
   "outputs": [],
   "source": [
    "from sklearn.metrics import mean_absolute_error\n",
    "\n",
    "def custom_metric(y_true, y_pred):\n",
    "    '''\n",
    "    Calculate the mean absolute error using only the predicted values of the last\n",
    "    3 months of the year.\n",
    "    '''\n",
    "    # Ensure y_true.index is a DatetimeIndex\n",
    "    if not isinstance(y_true.index, pd.DatetimeIndex):\n",
    "        raise TypeError(\"y_true.index must be a DatetimeIndex\")\n",
    "\n",
    "    # Use the day method to get the day values\n",
    "    mask = y_true.index.day.isin([10, 11, 12])\n",
    "    metric = mean_absolute_error(y_true[mask], y_pred[mask])\n",
    "    \n",
    "    return metric\n"
   ]
  },
  {
   "cell_type": "code",
   "execution_count": 212,
   "id": "54e37b29",
   "metadata": {},
   "outputs": [],
   "source": [
    "def custom_metric(y_true, y_pred):\n",
    "    '''\n",
    "    Calculate the mean squared error using only the predicted values of the last\n",
    "    3 months of the year.\n",
    "    '''\n",
    "    mask = y_true.index.day.isin([10, 11, 12])\n",
    "    metric = mean_absolute_error(y_true[mask], y_pred[mask])\n",
    "    \n",
    "    return metric"
   ]
  },
  {
   "cell_type": "code",
   "execution_count": 213,
   "id": "19949ed8",
   "metadata": {},
   "outputs": [
    {
     "name": "stdout",
     "output_type": "stream",
     "text": [
      "Information of backtesting process\n",
      "----------------------------------\n",
      "Number of observations used for initial training: 994\n",
      "Number of observations used for backtesting: 552\n",
      "    Number of folds: 3\n",
      "    Number of steps per fold: 184\n",
      "    Number of steps to exclude from the end of each train set before test (gap): 0\n",
      "\n",
      "Fold: 0\n",
      "    Training:   0 -- 993  (n=994)\n",
      "    Validation: 994 -- 1177  (n=184)\n",
      "Fold: 1\n",
      "    Training:   0 -- 993  (n=994)\n",
      "    Validation: 1178 -- 1361  (n=184)\n",
      "Fold: 2\n",
      "    Training:   0 -- 993  (n=994)\n",
      "    Validation: 1362 -- 1545  (n=184)\n",
      "\n"
     ]
    },
    {
     "data": {
      "application/vnd.jupyter.widget-view+json": {
       "model_id": "e9348b33a4ac46cda8b4c65745249080",
       "version_major": 2,
       "version_minor": 0
      },
      "text/plain": [
       "  0%|          | 0/3 [00:00<?, ?it/s]"
      ]
     },
     "metadata": {},
     "output_type": "display_data"
    },
    {
     "name": "stdout",
     "output_type": "stream",
     "text": [
      "Backtest error: 7.110019862751441\n"
     ]
    }
   ],
   "source": [
    "# Necessary Imports\n",
    "import numpy as np\n",
    "import pandas as pd\n",
    "from skforecast.ForecasterAutoreg import ForecasterAutoreg\n",
    "from skforecast.model_selection import backtesting_forecaster\n",
    "\n",
    "# Define your custom metric:\n",
    "def custom_metric(y_true, y_pred):\n",
    "    # Replace with your custom logic\n",
    "    error = y_true - y_pred\n",
    "    return np.mean(error**2)\n",
    "\n",
    "# Load your data:\n",
    "# mergeddata = pd.read_csv(\"your_data_path.csv\")\n",
    "\n",
    "# I'm assuming you're using an autoregressive model, but replace with appropriate forecaster if not\n",
    "# Train your forecaster:\n",
    "# Example using Ridge regression from sklearn:\n",
    "from sklearn.linear_model import Ridge\n",
    "forecaster = ForecasterAutoreg(\n",
    "    regressor=Ridge(),\n",
    "    lags=12  # number of lags to use; adjust based on your needs\n",
    ")\n",
    "\n",
    "# Fit the forecaster on some initial data:\n",
    "# You may need to adjust this based on how you've organized your data\n",
    "# initial_data = mergeddata['INF_Value_log'].iloc[:-(n_backtesting)]\n",
    "# forecaster.fit(y=initial_data)\n",
    "\n",
    "steps = 184\n",
    "n_backtesting = 184 * 3  # The last 9 years are separated for backtesting\n",
    "\n",
    "metric, predictions_backtest = backtesting_forecaster(\n",
    "    forecaster=forecaster,\n",
    "    y=mergeddata['INF_Value_log'],\n",
    "    initial_train_size=len(mergeddata) - n_backtesting,\n",
    "    steps=steps,\n",
    "    metric=custom_metric,\n",
    "    verbose=True\n",
    ")\n",
    "\n",
    "print(f\"Backtest error: {metric}\")\n"
   ]
  },
  {
   "cell_type": "code",
   "execution_count": 214,
   "id": "425dadaa",
   "metadata": {},
   "outputs": [
    {
     "name": "stdout",
     "output_type": "stream",
     "text": [
      "Predicted interval coverage: 97.46 %\n"
     ]
    }
   ],
   "source": [
    "# Predicted interval coverage\n",
    "# ==============================================================================\n",
    "inside_interval = np.where(\n",
    "                     (data_train.loc[predictions.index, 'INF_Value_log'] >= predictions['lower_bound']) & \\\n",
    "                     (data_train.loc[predictions.index, 'INF_Value_log'] <= predictions['upper_bound']),\n",
    "                     True,\n",
    "                     False\n",
    "                   )\n",
    "\n",
    "coverage = inside_interval.mean()\n",
    "print(f\"Predicted interval coverage: {round(100*coverage, 2)} %\")"
   ]
  },
  {
   "cell_type": "markdown",
   "id": "047c8ae6",
   "metadata": {},
   "source": [
    "Custom Metric\n"
   ]
  },
  {
   "cell_type": "code",
   "execution_count": 215,
   "id": "8c21f503",
   "metadata": {},
   "outputs": [],
   "source": [
    "# Custom metric \n",
    "# ==============================================================================\n",
    "def custom_metric(y_true, y_pred):\n",
    "    '''\n",
    "    Calculate the mean squared error using only the predicted values of the last\n",
    "    3 months of the year.\n",
    "    '''\n",
    "    mask = y_true.index.day.isin([10, 11, 12])\n",
    "    metric = mean_absolute_error(y_true[mask], y_pred[mask])\n",
    "    \n",
    "    return metric"
   ]
  },
  {
   "cell_type": "code",
   "execution_count": 216,
   "metadata": {},
   "outputs": [],
   "source": [
    "initial_train_size = len(data_train) - n_backtesting\n"
   ]
  },
  {
   "cell_type": "code",
   "execution_count": 229,
   "id": "1cd09d7a",
   "metadata": {},
   "outputs": [],
   "source": [
    "from sklearn.metrics import mean_absolute_error\n",
    "\n",
    "def custom_metric(y_true, y_pred):\n",
    "    \n",
    "    # Convert the 'RowKey' to datetime (if not already)\n",
    "    if not isinstance(y_true['RowKey'], pd.DatetimeIndex):\n",
    "        y_true['RowKey'] = pd.to_datetime(y_true['RowKey'])\n",
    "    \n",
    "    mask = y_true['RowKey'].day.isin([10, 11, 12])\n",
    "    \n",
    "    # Use the mask to filter the actual values for computation\n",
    "    metric = mean_absolute_error(y_true[mask]['value_column_name'], y_pred[mask]) # replace 'value_column_name' with the name of your value column\n",
    "    \n",
    "    return metric\n"
   ]
  },
  {
   "cell_type": "code",
   "execution_count": 234,
   "id": "72b43a50",
   "metadata": {},
   "outputs": [
    {
     "data": {
      "text/plain": [
       "1546     9.945173\n",
       "1547     9.507695\n",
       "1548    13.029161\n",
       "Name: pred, dtype: float64"
      ]
     },
     "execution_count": 234,
     "metadata": {},
     "output_type": "execute_result"
    }
   ],
   "source": [
    "# Create forecaster\n",
    "forecaster = ForecasterAutoreg(RandomForestRegressor(random_state=123), lags=3)\n",
    "forecaster.fit(y=mergeddata['INF_Value_log'])\n",
    "forecaster.predict(steps=3)"
   ]
  },
  {
   "cell_type": "code",
   "execution_count": 235,
   "id": "a9db22b9",
   "metadata": {},
   "outputs": [],
   "source": [
    "save_forecaster(forecaster, file_name='forecaster.py', verbose=False)\n"
   ]
  },
  {
   "cell_type": "code",
   "execution_count": 236,
   "id": "c56d390c",
   "metadata": {},
   "outputs": [],
   "source": [
    "save_forecaster(forecaster, file_name='forecaster.py', verbose=False)\n"
   ]
  },
  {
   "cell_type": "code",
   "execution_count": 238,
   "id": "e559be35",
   "metadata": {},
   "outputs": [
    {
     "name": "stdout",
     "output_type": "stream",
     "text": [
      "================= \n",
      "ForecasterAutoreg \n",
      "================= \n",
      "Regressor: RandomForestRegressor(random_state=123) \n",
      "Lags: [1 2 3] \n",
      "Transformer for y: None \n",
      "Transformer for exog: None \n",
      "Window size: 3 \n",
      "Weight function included: False \n",
      "Differentiation order: None \n",
      "Exogenous included: False \n",
      "Type of exogenous variable: None \n",
      "Exogenous variables names: None \n",
      "Training range: [0, 1545] \n",
      "Training index type: RangeIndex \n",
      "Training index frequency: 1 \n",
      "Regressor parameters: {'bootstrap': True, 'ccp_alpha': 0.0, 'criterion': 'squared_error', 'max_depth': None, 'max_features': 1.0, 'max_leaf_nodes': None, 'max_samples': None, 'min_impurity_decrease': 0.0, 'min_samples_leaf': 1, 'min_samples_split': 2, 'min_weight_fraction_leaf': 0.0, 'n_estimators': 100, 'n_jobs': None, 'oob_score': False, 'random_state': 123, 'verbose': 0, 'warm_start': False} \n",
      "fit_kwargs: {} \n",
      "Creation date: 2023-10-22 15:30:59 \n",
      "Last fit date: 2023-10-22 15:31:00 \n",
      "Skforecast version: 0.10.1 \n",
      "Python version: 3.9.7 \n",
      "Forecaster id: None \n",
      "\n"
     ]
    }
   ],
   "source": [
    "forecaster_loaded = load_forecaster('forecaster.py')\n"
   ]
  },
  {
   "cell_type": "code",
   "execution_count": 239,
   "id": "b2667ea7",
   "metadata": {},
   "outputs": [
    {
     "data": {
      "text/plain": [
       "1546     9.945173\n",
       "1547     9.507695\n",
       "1548    13.029161\n",
       "Name: pred, dtype: float64"
      ]
     },
     "execution_count": 239,
     "metadata": {},
     "output_type": "execute_result"
    }
   ],
   "source": [
    "forecaster_loaded.predict(steps=3)\n"
   ]
  },
  {
   "cell_type": "code",
   "execution_count": null,
   "id": "6bd77cc3",
   "metadata": {},
   "outputs": [],
   "source": []
  }
 ],
 "metadata": {
  "kernelspec": {
   "display_name": "Python 3 (ipykernel)",
   "language": "python",
   "name": "python3"
  },
  "language_info": {
   "codemirror_mode": {
    "name": "ipython",
    "version": 3
   },
   "file_extension": ".py",
   "mimetype": "text/x-python",
   "name": "python",
   "nbconvert_exporter": "python",
   "pygments_lexer": "ipython3",
   "version": "3.9.7"
  }
 },
 "nbformat": 4,
 "nbformat_minor": 5
}
